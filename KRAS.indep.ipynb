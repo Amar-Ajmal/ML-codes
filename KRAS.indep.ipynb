{
 "cells": [
  {
   "cell_type": "code",
   "execution_count": 1,
   "metadata": {},
   "outputs": [],
   "source": [
    "import pandas as pd\n",
    "import numpy as np\n",
    "import matplotlib.pyplot as plt\n",
    "import seaborn as sns\n",
    "import csv\n",
    "from sklearn.feature_selection import SelectKBest, chi2\n",
    "from sklearn import preprocessing\n",
    "from sklearn.svm import SVC\n",
    "from sklearn.model_selection import cross_val_score,KFold,cross_val_predict\n",
    "from sklearn.metrics import confusion_matrix,classification_report,accuracy_score\n",
    "import sklearn\n",
    "from sklearn.metrics import f1_score\n",
    "from sklearn import metrics\n",
    "from sklearn.metrics import accuracy_score\n",
    "from sklearn.metrics import precision_score\n",
    "from sklearn.metrics import recall_score\n",
    "from sklearn.metrics import roc_curve, roc_auc_score\n",
    "from sklearn.neighbors import KNeighborsClassifier\n",
    "from sklearn.preprocessing import StandardScaler\n",
    "from sklearn.model_selection import train_test_split, GridSearchCV\n",
    "from sklearn.pipeline import make_pipeline\n",
    "from sklearn.svm import SVC\n",
    "from sklearn.feature_selection import RFECV\n",
    "from sklearn.metrics import roc_auc_score, roc_curve, auc\n",
    "\n",
    "# models\n",
    "from sklearn.neighbors import KNeighborsClassifier\n",
    "from sklearn.naive_bayes import GaussianNB\n",
    "from sklearn.ensemble import RandomForestClassifier, GradientBoostingClassifier, ExtraTreesClassifier\n",
    "from sklearn.linear_model import LogisticRegression\n",
    "from sklearn.neural_network import MLPClassifier\n",
    "#from mlxtend.classifier import StackingCVClassifier\n",
    "#from xgboost import XGBClassifier\n",
    "#from lightgbm import LGBMModel"
   ]
  },
  {
   "cell_type": "code",
   "execution_count": 2,
   "metadata": {
    "scrolled": true
   },
   "outputs": [],
   "source": [
    "df = pd.read_csv('ind.csv')"
   ]
  },
  {
   "cell_type": "code",
   "execution_count": 3,
   "metadata": {},
   "outputs": [
    {
     "data": {
      "text/html": [
       "<div>\n",
       "<style scoped>\n",
       "    .dataframe tbody tr th:only-of-type {\n",
       "        vertical-align: middle;\n",
       "    }\n",
       "\n",
       "    .dataframe tbody tr th {\n",
       "        vertical-align: top;\n",
       "    }\n",
       "\n",
       "    .dataframe thead th {\n",
       "        text-align: right;\n",
       "    }\n",
       "</style>\n",
       "<table border=\"1\" class=\"dataframe\">\n",
       "  <thead>\n",
       "    <tr style=\"text-align: right;\">\n",
       "      <th></th>\n",
       "      <th>mol</th>\n",
       "      <th>apol</th>\n",
       "      <th>ast_violation</th>\n",
       "      <th>ast_violation_ext</th>\n",
       "      <th>a_acc</th>\n",
       "      <th>a_aro</th>\n",
       "      <th>a_count</th>\n",
       "      <th>a_don</th>\n",
       "      <th>a_donacc</th>\n",
       "      <th>a_heavy</th>\n",
       "      <th>...</th>\n",
       "      <th>vdw_vol</th>\n",
       "      <th>vsa_acc</th>\n",
       "      <th>vsa_hyd</th>\n",
       "      <th>vsa_other</th>\n",
       "      <th>vsa_pol</th>\n",
       "      <th>Weight</th>\n",
       "      <th>weinerPath</th>\n",
       "      <th>weinerPol</th>\n",
       "      <th>zagreb</th>\n",
       "      <th>Label</th>\n",
       "    </tr>\n",
       "  </thead>\n",
       "  <tbody>\n",
       "    <tr>\n",
       "      <th>0</th>\n",
       "      <td>Clc1c(-c2c(C)ccc3n[nH]cc23)cc2N(c3c(C(C)C)cccc...</td>\n",
       "      <td>87.374580</td>\n",
       "      <td>3</td>\n",
       "      <td>4</td>\n",
       "      <td>5</td>\n",
       "      <td>21</td>\n",
       "      <td>72</td>\n",
       "      <td>2</td>\n",
       "      <td>7</td>\n",
       "      <td>41</td>\n",
       "      <td>...</td>\n",
       "      <td>667.22748</td>\n",
       "      <td>32.816418</td>\n",
       "      <td>431.06790</td>\n",
       "      <td>41.580635</td>\n",
       "      <td>51.658497</td>\n",
       "      <td>567.09302</td>\n",
       "      <td>5235</td>\n",
       "      <td>78</td>\n",
       "      <td>228</td>\n",
       "      <td>1</td>\n",
       "    </tr>\n",
       "    <tr>\n",
       "      <th>1</th>\n",
       "      <td>Clc1c(-c2c(F)cccc2O)nc2N(c3c(C(C)C)nccc3C)C(=O...</td>\n",
       "      <td>84.546791</td>\n",
       "      <td>3</td>\n",
       "      <td>4</td>\n",
       "      <td>6</td>\n",
       "      <td>18</td>\n",
       "      <td>71</td>\n",
       "      <td>1</td>\n",
       "      <td>7</td>\n",
       "      <td>41</td>\n",
       "      <td>...</td>\n",
       "      <td>652.15259</td>\n",
       "      <td>44.181568</td>\n",
       "      <td>422.21329</td>\n",
       "      <td>52.771198</td>\n",
       "      <td>57.748489</td>\n",
       "      <td>577.06000</td>\n",
       "      <td>5138</td>\n",
       "      <td>80</td>\n",
       "      <td>224</td>\n",
       "      <td>1</td>\n",
       "    </tr>\n",
       "    <tr>\n",
       "      <th>2</th>\n",
       "      <td>Clc1c(-c2c(F)cccc2O)nc2N(c3c(C(C)C)ncnc3C(C)C)...</td>\n",
       "      <td>89.407166</td>\n",
       "      <td>3</td>\n",
       "      <td>5</td>\n",
       "      <td>7</td>\n",
       "      <td>18</td>\n",
       "      <td>76</td>\n",
       "      <td>1</td>\n",
       "      <td>8</td>\n",
       "      <td>43</td>\n",
       "      <td>...</td>\n",
       "      <td>683.08276</td>\n",
       "      <td>49.864147</td>\n",
       "      <td>422.21329</td>\n",
       "      <td>77.561714</td>\n",
       "      <td>63.431068</td>\n",
       "      <td>606.10199</td>\n",
       "      <td>5762</td>\n",
       "      <td>84</td>\n",
       "      <td>234</td>\n",
       "      <td>1</td>\n",
       "    </tr>\n",
       "    <tr>\n",
       "      <th>3</th>\n",
       "      <td>Clc1c(-c2c(F)cccc2O)nc2N(c3c(CC)cccc3C)C(=O)N=...</td>\n",
       "      <td>82.779999</td>\n",
       "      <td>3</td>\n",
       "      <td>4</td>\n",
       "      <td>5</td>\n",
       "      <td>18</td>\n",
       "      <td>69</td>\n",
       "      <td>1</td>\n",
       "      <td>6</td>\n",
       "      <td>40</td>\n",
       "      <td>...</td>\n",
       "      <td>639.74982</td>\n",
       "      <td>38.498993</td>\n",
       "      <td>413.23126</td>\n",
       "      <td>52.771198</td>\n",
       "      <td>52.065914</td>\n",
       "      <td>562.04498</td>\n",
       "      <td>4837</td>\n",
       "      <td>78</td>\n",
       "      <td>218</td>\n",
       "      <td>1</td>\n",
       "    </tr>\n",
       "    <tr>\n",
       "      <th>4</th>\n",
       "      <td>Clc1c(-c2c(F)cccc2O)nc2N(c3c(C(C)C)ncnc3C(C)C)...</td>\n",
       "      <td>89.407166</td>\n",
       "      <td>3</td>\n",
       "      <td>5</td>\n",
       "      <td>7</td>\n",
       "      <td>18</td>\n",
       "      <td>76</td>\n",
       "      <td>1</td>\n",
       "      <td>8</td>\n",
       "      <td>43</td>\n",
       "      <td>...</td>\n",
       "      <td>683.08276</td>\n",
       "      <td>49.864147</td>\n",
       "      <td>422.21329</td>\n",
       "      <td>77.561714</td>\n",
       "      <td>63.431068</td>\n",
       "      <td>606.10199</td>\n",
       "      <td>5762</td>\n",
       "      <td>84</td>\n",
       "      <td>234</td>\n",
       "      <td>1</td>\n",
       "    </tr>\n",
       "    <tr>\n",
       "      <th>...</th>\n",
       "      <td>...</td>\n",
       "      <td>...</td>\n",
       "      <td>...</td>\n",
       "      <td>...</td>\n",
       "      <td>...</td>\n",
       "      <td>...</td>\n",
       "      <td>...</td>\n",
       "      <td>...</td>\n",
       "      <td>...</td>\n",
       "      <td>...</td>\n",
       "      <td>...</td>\n",
       "      <td>...</td>\n",
       "      <td>...</td>\n",
       "      <td>...</td>\n",
       "      <td>...</td>\n",
       "      <td>...</td>\n",
       "      <td>...</td>\n",
       "      <td>...</td>\n",
       "      <td>...</td>\n",
       "      <td>...</td>\n",
       "      <td>...</td>\n",
       "    </tr>\n",
       "    <tr>\n",
       "      <th>392</th>\n",
       "      <td>Clc1cc(CN2CCN(CC(=O)Nc3cc4c(-n5c(-c6cc(Cl)ccc6...</td>\n",
       "      <td>81.472206</td>\n",
       "      <td>3</td>\n",
       "      <td>4</td>\n",
       "      <td>5</td>\n",
       "      <td>23</td>\n",
       "      <td>66</td>\n",
       "      <td>1</td>\n",
       "      <td>6</td>\n",
       "      <td>38</td>\n",
       "      <td>...</td>\n",
       "      <td>707.02869</td>\n",
       "      <td>32.409000</td>\n",
       "      <td>415.53558</td>\n",
       "      <td>35.330658</td>\n",
       "      <td>38.091576</td>\n",
       "      <td>547.48999</td>\n",
       "      <td>5669</td>\n",
       "      <td>61</td>\n",
       "      <td>208</td>\n",
       "      <td>0</td>\n",
       "    </tr>\n",
       "    <tr>\n",
       "      <th>393</th>\n",
       "      <td>Clc1c(C(F)(F)F)cc(NC(=O)c2cc(Nc3ncnc4c3nc(N3CC...</td>\n",
       "      <td>70.245857</td>\n",
       "      <td>3</td>\n",
       "      <td>4</td>\n",
       "      <td>5</td>\n",
       "      <td>22</td>\n",
       "      <td>58</td>\n",
       "      <td>2</td>\n",
       "      <td>7</td>\n",
       "      <td>38</td>\n",
       "      <td>...</td>\n",
       "      <td>631.82166</td>\n",
       "      <td>36.297226</td>\n",
       "      <td>334.19284</td>\n",
       "      <td>64.612183</td>\n",
       "      <td>47.662376</td>\n",
       "      <td>545.92798</td>\n",
       "      <td>5101</td>\n",
       "      <td>63</td>\n",
       "      <td>208</td>\n",
       "      <td>0</td>\n",
       "    </tr>\n",
       "    <tr>\n",
       "      <th>394</th>\n",
       "      <td>FC(F)(F)c1c(CN2CCN(CC)CC2)ccc(NC(=O)c2cc(C#Cc3...</td>\n",
       "      <td>82.536789</td>\n",
       "      <td>3</td>\n",
       "      <td>4</td>\n",
       "      <td>4</td>\n",
       "      <td>17</td>\n",
       "      <td>70</td>\n",
       "      <td>1</td>\n",
       "      <td>5</td>\n",
       "      <td>40</td>\n",
       "      <td>...</td>\n",
       "      <td>726.85468</td>\n",
       "      <td>19.249496</td>\n",
       "      <td>464.31961</td>\n",
       "      <td>24.140093</td>\n",
       "      <td>24.932074</td>\n",
       "      <td>545.60901</td>\n",
       "      <td>6242</td>\n",
       "      <td>64</td>\n",
       "      <td>214</td>\n",
       "      <td>0</td>\n",
       "    </tr>\n",
       "    <tr>\n",
       "      <th>395</th>\n",
       "      <td>FC(F)(F)c1c(N2C(=O)C3(CC2)CCN(CC2CCOCC2)CC3)cc...</td>\n",
       "      <td>89.147102</td>\n",
       "      <td>3</td>\n",
       "      <td>4</td>\n",
       "      <td>4</td>\n",
       "      <td>6</td>\n",
       "      <td>82</td>\n",
       "      <td>0</td>\n",
       "      <td>4</td>\n",
       "      <td>39</td>\n",
       "      <td>...</td>\n",
       "      <td>738.56836</td>\n",
       "      <td>16.070677</td>\n",
       "      <td>465.50208</td>\n",
       "      <td>12.949531</td>\n",
       "      <td>16.070677</td>\n",
       "      <td>548.69397</td>\n",
       "      <td>5471</td>\n",
       "      <td>66</td>\n",
       "      <td>220</td>\n",
       "      <td>0</td>\n",
       "    </tr>\n",
       "    <tr>\n",
       "      <th>396</th>\n",
       "      <td>Clc1c(Cl)ccc(OC2CCN(C3CCN(C(=O)NS(=O)(=O)c4ccc...</td>\n",
       "      <td>73.764618</td>\n",
       "      <td>3</td>\n",
       "      <td>4</td>\n",
       "      <td>5</td>\n",
       "      <td>12</td>\n",
       "      <td>60</td>\n",
       "      <td>1</td>\n",
       "      <td>6</td>\n",
       "      <td>34</td>\n",
       "      <td>...</td>\n",
       "      <td>635.22534</td>\n",
       "      <td>48.087200</td>\n",
       "      <td>385.19772</td>\n",
       "      <td>27.546150</td>\n",
       "      <td>56.162407</td>\n",
       "      <td>546.90302</td>\n",
       "      <td>4297</td>\n",
       "      <td>54</td>\n",
       "      <td>180</td>\n",
       "      <td>0</td>\n",
       "    </tr>\n",
       "  </tbody>\n",
       "</table>\n",
       "<p>397 rows × 172 columns</p>\n",
       "</div>"
      ],
      "text/plain": [
       "                                                   mol       apol  \\\n",
       "0    Clc1c(-c2c(C)ccc3n[nH]cc23)cc2N(c3c(C(C)C)cccc...  87.374580   \n",
       "1    Clc1c(-c2c(F)cccc2O)nc2N(c3c(C(C)C)nccc3C)C(=O...  84.546791   \n",
       "2    Clc1c(-c2c(F)cccc2O)nc2N(c3c(C(C)C)ncnc3C(C)C)...  89.407166   \n",
       "3    Clc1c(-c2c(F)cccc2O)nc2N(c3c(CC)cccc3C)C(=O)N=...  82.779999   \n",
       "4    Clc1c(-c2c(F)cccc2O)nc2N(c3c(C(C)C)ncnc3C(C)C)...  89.407166   \n",
       "..                                                 ...        ...   \n",
       "392  Clc1cc(CN2CCN(CC(=O)Nc3cc4c(-n5c(-c6cc(Cl)ccc6...  81.472206   \n",
       "393  Clc1c(C(F)(F)F)cc(NC(=O)c2cc(Nc3ncnc4c3nc(N3CC...  70.245857   \n",
       "394  FC(F)(F)c1c(CN2CCN(CC)CC2)ccc(NC(=O)c2cc(C#Cc3...  82.536789   \n",
       "395  FC(F)(F)c1c(N2C(=O)C3(CC2)CCN(CC2CCOCC2)CC3)cc...  89.147102   \n",
       "396  Clc1c(Cl)ccc(OC2CCN(C3CCN(C(=O)NS(=O)(=O)c4ccc...  73.764618   \n",
       "\n",
       "     ast_violation  ast_violation_ext  a_acc  a_aro  a_count  a_don  a_donacc  \\\n",
       "0                3                  4      5     21       72      2         7   \n",
       "1                3                  4      6     18       71      1         7   \n",
       "2                3                  5      7     18       76      1         8   \n",
       "3                3                  4      5     18       69      1         6   \n",
       "4                3                  5      7     18       76      1         8   \n",
       "..             ...                ...    ...    ...      ...    ...       ...   \n",
       "392              3                  4      5     23       66      1         6   \n",
       "393              3                  4      5     22       58      2         7   \n",
       "394              3                  4      4     17       70      1         5   \n",
       "395              3                  4      4      6       82      0         4   \n",
       "396              3                  4      5     12       60      1         6   \n",
       "\n",
       "     a_heavy  ...    vdw_vol    vsa_acc    vsa_hyd  vsa_other    vsa_pol  \\\n",
       "0         41  ...  667.22748  32.816418  431.06790  41.580635  51.658497   \n",
       "1         41  ...  652.15259  44.181568  422.21329  52.771198  57.748489   \n",
       "2         43  ...  683.08276  49.864147  422.21329  77.561714  63.431068   \n",
       "3         40  ...  639.74982  38.498993  413.23126  52.771198  52.065914   \n",
       "4         43  ...  683.08276  49.864147  422.21329  77.561714  63.431068   \n",
       "..       ...  ...        ...        ...        ...        ...        ...   \n",
       "392       38  ...  707.02869  32.409000  415.53558  35.330658  38.091576   \n",
       "393       38  ...  631.82166  36.297226  334.19284  64.612183  47.662376   \n",
       "394       40  ...  726.85468  19.249496  464.31961  24.140093  24.932074   \n",
       "395       39  ...  738.56836  16.070677  465.50208  12.949531  16.070677   \n",
       "396       34  ...  635.22534  48.087200  385.19772  27.546150  56.162407   \n",
       "\n",
       "        Weight  weinerPath  weinerPol  zagreb  Label  \n",
       "0    567.09302        5235         78     228      1  \n",
       "1    577.06000        5138         80     224      1  \n",
       "2    606.10199        5762         84     234      1  \n",
       "3    562.04498        4837         78     218      1  \n",
       "4    606.10199        5762         84     234      1  \n",
       "..         ...         ...        ...     ...    ...  \n",
       "392  547.48999        5669         61     208      0  \n",
       "393  545.92798        5101         63     208      0  \n",
       "394  545.60901        6242         64     214      0  \n",
       "395  548.69397        5471         66     220      0  \n",
       "396  546.90302        4297         54     180      0  \n",
       "\n",
       "[397 rows x 172 columns]"
      ]
     },
     "execution_count": 3,
     "metadata": {},
     "output_type": "execute_result"
    }
   ],
   "source": [
    "df"
   ]
  },
  {
   "cell_type": "code",
   "execution_count": 4,
   "metadata": {},
   "outputs": [
    {
     "name": "stderr",
     "output_type": "stream",
     "text": [
      "C:\\Users\\A B C\\AppData\\Local\\Temp\\ipykernel_11100\\4172614641.py:1: DeprecationWarning: Importing display from IPython.core.display is deprecated since IPython 7.14, please import from IPython display\n",
      "  from IPython.core.display import display, HTML\n"
     ]
    },
    {
     "data": {
      "text/html": [
       "<style>.container { width:100% !important; }</style>"
      ],
      "text/plain": [
       "<IPython.core.display.HTML object>"
      ]
     },
     "metadata": {},
     "output_type": "display_data"
    }
   ],
   "source": [
    "from IPython.core.display import display, HTML\n",
    "display(HTML(\"<style>.container { width:100% !important; }</style>\"))\n",
    "import warnings\n",
    "warnings.filterwarnings('ignore')"
   ]
  },
  {
   "cell_type": "code",
   "execution_count": 47,
   "metadata": {},
   "outputs": [],
   "source": [
    "X = df.iloc[ : , 1 : 172]\n",
    "y = df.iloc[:, -1:]"
   ]
  },
  {
   "cell_type": "code",
   "execution_count": null,
   "metadata": {},
   "outputs": [],
   "source": []
  },
  {
   "cell_type": "code",
   "execution_count": 6,
   "metadata": {},
   "outputs": [],
   "source": [
    "non_negative =X[X>=0]"
   ]
  },
  {
   "cell_type": "code",
   "execution_count": 7,
   "metadata": {},
   "outputs": [],
   "source": [
    "ddd = non_negative.fillna(value = 0)"
   ]
  },
  {
   "cell_type": "code",
   "execution_count": 8,
   "metadata": {},
   "outputs": [
    {
     "data": {
      "text/plain": [
       "array([[0.07145159, 0.00245329, 0.00327105, ..., 0.00300924, 0.00856197,\n",
       "        0.42875828],\n",
       "       [0.067734  , 0.00240343, 0.00320457, ..., 0.00291232, 0.00839309,\n",
       "        0.42679485],\n",
       "       [0.06748968, 0.00226457, 0.00377429, ..., 0.00274987, 0.00801693,\n",
       "        0.42514039],\n",
       "       ...,\n",
       "       [0.06751995, 0.00245418, 0.00327224, ..., 0.00340421, 0.00844984,\n",
       "        0.43938529],\n",
       "       [0.07242675, 0.00243732, 0.00324976, ..., 0.00328844, 0.00833156,\n",
       "        0.42772945],\n",
       "       [0.06537486, 0.00265879, 0.00354505, ..., 0.0036522 , 0.00870674,\n",
       "        0.43406907]])"
      ]
     },
     "execution_count": 8,
     "metadata": {},
     "output_type": "execute_result"
    }
   ],
   "source": [
    "    norma =  preprocessing.normalize(ddd)\n",
    "norma"
   ]
  },
  {
   "cell_type": "code",
   "execution_count": 9,
   "metadata": {},
   "outputs": [
    {
     "name": "stdout",
     "output_type": "stream",
     "text": [
      " the shape of training set: (277, 161)\n",
      " the shape of testing set: (120, 161)\n"
     ]
    }
   ],
   "source": [
    "from sklearn.model_selection import train_test_split\n",
    "wq=X_train, X_test, y_train, y_test = train_test_split(norma, y, test_size= 0.3 )\n",
    "print(f\" the shape of training set: {X_train.shape}\")\n",
    "print(f\" the shape of testing set: {X_test.shape}\")"
   ]
  },
  {
   "cell_type": "markdown",
   "metadata": {},
   "source": [
    "# MODELS"
   ]
  },
  {
   "cell_type": "markdown",
   "metadata": {},
   "source": [
    "# SVM"
   ]
  },
  {
   "cell_type": "code",
   "execution_count": 10,
   "metadata": {},
   "outputs": [],
   "source": [
    "param_grid = { 'C': [0.1 , 1 ,10 ,100, 1000],\n",
    "             'gamma': [1 , 0.1 , 0.001 , 0.0001]}"
   ]
  },
  {
   "cell_type": "code",
   "execution_count": 11,
   "metadata": {},
   "outputs": [],
   "source": [
    "from sklearn.model_selection import GridSearchCV"
   ]
  },
  {
   "cell_type": "code",
   "execution_count": 12,
   "metadata": {},
   "outputs": [],
   "source": [
    "grid = GridSearchCV(SVC() , param_grid, verbose = 2)"
   ]
  },
  {
   "cell_type": "code",
   "execution_count": 13,
   "metadata": {},
   "outputs": [
    {
     "name": "stdout",
     "output_type": "stream",
     "text": [
      "Fitting 5 folds for each of 20 candidates, totalling 100 fits\n",
      "[CV] END .....................................C=0.1, gamma=1; total time=   0.0s\n",
      "[CV] END .....................................C=0.1, gamma=1; total time=   0.0s\n",
      "[CV] END .....................................C=0.1, gamma=1; total time=   0.0s\n",
      "[CV] END .....................................C=0.1, gamma=1; total time=   0.0s\n",
      "[CV] END .....................................C=0.1, gamma=1; total time=   0.0s\n",
      "[CV] END ...................................C=0.1, gamma=0.1; total time=   0.0s\n",
      "[CV] END ...................................C=0.1, gamma=0.1; total time=   0.0s\n",
      "[CV] END ...................................C=0.1, gamma=0.1; total time=   0.0s\n",
      "[CV] END ...................................C=0.1, gamma=0.1; total time=   0.0s\n",
      "[CV] END ...................................C=0.1, gamma=0.1; total time=   0.0s\n",
      "[CV] END .................................C=0.1, gamma=0.001; total time=   0.0s\n",
      "[CV] END .................................C=0.1, gamma=0.001; total time=   0.0s\n",
      "[CV] END .................................C=0.1, gamma=0.001; total time=   0.0s\n",
      "[CV] END .................................C=0.1, gamma=0.001; total time=   0.0s\n",
      "[CV] END .................................C=0.1, gamma=0.001; total time=   0.0s\n",
      "[CV] END ................................C=0.1, gamma=0.0001; total time=   0.0s\n",
      "[CV] END ................................C=0.1, gamma=0.0001; total time=   0.0s\n",
      "[CV] END ................................C=0.1, gamma=0.0001; total time=   0.0s\n",
      "[CV] END ................................C=0.1, gamma=0.0001; total time=   0.0s\n",
      "[CV] END ................................C=0.1, gamma=0.0001; total time=   0.0s\n",
      "[CV] END .......................................C=1, gamma=1; total time=   0.0s\n",
      "[CV] END .......................................C=1, gamma=1; total time=   0.0s\n",
      "[CV] END .......................................C=1, gamma=1; total time=   0.0s\n",
      "[CV] END .......................................C=1, gamma=1; total time=   0.0s\n",
      "[CV] END .......................................C=1, gamma=1; total time=   0.0s\n",
      "[CV] END .....................................C=1, gamma=0.1; total time=   0.0s\n",
      "[CV] END .....................................C=1, gamma=0.1; total time=   0.0s\n",
      "[CV] END .....................................C=1, gamma=0.1; total time=   0.0s\n",
      "[CV] END .....................................C=1, gamma=0.1; total time=   0.0s\n",
      "[CV] END .....................................C=1, gamma=0.1; total time=   0.0s\n",
      "[CV] END ...................................C=1, gamma=0.001; total time=   0.0s\n",
      "[CV] END ...................................C=1, gamma=0.001; total time=   0.0s\n",
      "[CV] END ...................................C=1, gamma=0.001; total time=   0.0s\n",
      "[CV] END ...................................C=1, gamma=0.001; total time=   0.0s\n",
      "[CV] END ...................................C=1, gamma=0.001; total time=   0.0s\n",
      "[CV] END ..................................C=1, gamma=0.0001; total time=   0.0s\n",
      "[CV] END ..................................C=1, gamma=0.0001; total time=   0.0s\n",
      "[CV] END ..................................C=1, gamma=0.0001; total time=   0.0s\n",
      "[CV] END ..................................C=1, gamma=0.0001; total time=   0.0s\n",
      "[CV] END ..................................C=1, gamma=0.0001; total time=   0.0s\n",
      "[CV] END ......................................C=10, gamma=1; total time=   0.0s\n",
      "[CV] END ......................................C=10, gamma=1; total time=   0.0s\n",
      "[CV] END ......................................C=10, gamma=1; total time=   0.0s\n",
      "[CV] END ......................................C=10, gamma=1; total time=   0.0s\n",
      "[CV] END ......................................C=10, gamma=1; total time=   0.0s\n",
      "[CV] END ....................................C=10, gamma=0.1; total time=   0.0s\n",
      "[CV] END ....................................C=10, gamma=0.1; total time=   0.0s\n",
      "[CV] END ....................................C=10, gamma=0.1; total time=   0.0s\n",
      "[CV] END ....................................C=10, gamma=0.1; total time=   0.0s\n",
      "[CV] END ....................................C=10, gamma=0.1; total time=   0.0s\n",
      "[CV] END ..................................C=10, gamma=0.001; total time=   0.0s\n",
      "[CV] END ..................................C=10, gamma=0.001; total time=   0.0s\n",
      "[CV] END ..................................C=10, gamma=0.001; total time=   0.0s\n",
      "[CV] END ..................................C=10, gamma=0.001; total time=   0.0s\n",
      "[CV] END ..................................C=10, gamma=0.001; total time=   0.0s\n",
      "[CV] END .................................C=10, gamma=0.0001; total time=   0.0s\n",
      "[CV] END .................................C=10, gamma=0.0001; total time=   0.0s\n",
      "[CV] END .................................C=10, gamma=0.0001; total time=   0.0s\n",
      "[CV] END .................................C=10, gamma=0.0001; total time=   0.0s\n",
      "[CV] END .................................C=10, gamma=0.0001; total time=   0.0s\n",
      "[CV] END .....................................C=100, gamma=1; total time=   0.0s\n",
      "[CV] END .....................................C=100, gamma=1; total time=   0.0s\n",
      "[CV] END .....................................C=100, gamma=1; total time=   0.0s\n",
      "[CV] END .....................................C=100, gamma=1; total time=   0.0s\n",
      "[CV] END .....................................C=100, gamma=1; total time=   0.0s\n",
      "[CV] END ...................................C=100, gamma=0.1; total time=   0.0s\n",
      "[CV] END ...................................C=100, gamma=0.1; total time=   0.0s\n",
      "[CV] END ...................................C=100, gamma=0.1; total time=   0.0s\n",
      "[CV] END ...................................C=100, gamma=0.1; total time=   0.0s\n",
      "[CV] END ...................................C=100, gamma=0.1; total time=   0.0s\n",
      "[CV] END .................................C=100, gamma=0.001; total time=   0.0s\n",
      "[CV] END .................................C=100, gamma=0.001; total time=   0.0s\n",
      "[CV] END .................................C=100, gamma=0.001; total time=   0.0s\n",
      "[CV] END .................................C=100, gamma=0.001; total time=   0.0s\n",
      "[CV] END .................................C=100, gamma=0.001; total time=   0.0s\n",
      "[CV] END ................................C=100, gamma=0.0001; total time=   0.0s\n",
      "[CV] END ................................C=100, gamma=0.0001; total time=   0.0s\n",
      "[CV] END ................................C=100, gamma=0.0001; total time=   0.0s\n",
      "[CV] END ................................C=100, gamma=0.0001; total time=   0.0s\n",
      "[CV] END ................................C=100, gamma=0.0001; total time=   0.0s\n",
      "[CV] END ....................................C=1000, gamma=1; total time=   0.0s\n",
      "[CV] END ....................................C=1000, gamma=1; total time=   0.0s\n",
      "[CV] END ....................................C=1000, gamma=1; total time=   0.0s\n",
      "[CV] END ....................................C=1000, gamma=1; total time=   0.0s\n",
      "[CV] END ....................................C=1000, gamma=1; total time=   0.0s\n",
      "[CV] END ..................................C=1000, gamma=0.1; total time=   0.0s\n",
      "[CV] END ..................................C=1000, gamma=0.1; total time=   0.0s\n",
      "[CV] END ..................................C=1000, gamma=0.1; total time=   0.0s\n",
      "[CV] END ..................................C=1000, gamma=0.1; total time=   0.0s\n",
      "[CV] END ..................................C=1000, gamma=0.1; total time=   0.0s\n",
      "[CV] END ................................C=1000, gamma=0.001; total time=   0.0s\n",
      "[CV] END ................................C=1000, gamma=0.001; total time=   0.0s\n",
      "[CV] END ................................C=1000, gamma=0.001; total time=   0.0s\n",
      "[CV] END ................................C=1000, gamma=0.001; total time=   0.0s\n",
      "[CV] END ................................C=1000, gamma=0.001; total time=   0.0s\n",
      "[CV] END ...............................C=1000, gamma=0.0001; total time=   0.0s\n",
      "[CV] END ...............................C=1000, gamma=0.0001; total time=   0.0s\n",
      "[CV] END ...............................C=1000, gamma=0.0001; total time=   0.0s\n",
      "[CV] END ...............................C=1000, gamma=0.0001; total time=   0.0s\n",
      "[CV] END ...............................C=1000, gamma=0.0001; total time=   0.0s\n"
     ]
    },
    {
     "data": {
      "text/plain": [
       "GridSearchCV(estimator=SVC(),\n",
       "             param_grid={'C': [0.1, 1, 10, 100, 1000],\n",
       "                         'gamma': [1, 0.1, 0.001, 0.0001]},\n",
       "             verbose=2)"
      ]
     },
     "execution_count": 13,
     "metadata": {},
     "output_type": "execute_result"
    }
   ],
   "source": [
    "grid.fit(X_train , y_train)"
   ]
  },
  {
   "cell_type": "code",
   "execution_count": 14,
   "metadata": {},
   "outputs": [
    {
     "data": {
      "text/plain": [
       "{'C': 100, 'gamma': 1}"
      ]
     },
     "execution_count": 14,
     "metadata": {},
     "output_type": "execute_result"
    }
   ],
   "source": [
    "grid.best_params_"
   ]
  },
  {
   "cell_type": "code",
   "execution_count": 15,
   "metadata": {},
   "outputs": [
    {
     "data": {
      "text/plain": [
       "0.9568181818181818"
      ]
     },
     "execution_count": 15,
     "metadata": {},
     "output_type": "execute_result"
    }
   ],
   "source": [
    "grid.best_score_"
   ]
  },
  {
   "cell_type": "code",
   "execution_count": 16,
   "metadata": {},
   "outputs": [],
   "source": [
    "grid_pred = grid.predict(X_test)"
   ]
  },
  {
   "cell_type": "code",
   "execution_count": 17,
   "metadata": {},
   "outputs": [],
   "source": [
    "aa = pd.DataFrame(grid_pred)"
   ]
  },
  {
   "cell_type": "code",
   "execution_count": 18,
   "metadata": {},
   "outputs": [
    {
     "data": {
      "text/plain": [
       "0    95\n",
       "1    25\n",
       "dtype: int64"
      ]
     },
     "execution_count": 18,
     "metadata": {},
     "output_type": "execute_result"
    }
   ],
   "source": [
    "aa.value_counts()"
   ]
  },
  {
   "cell_type": "code",
   "execution_count": 19,
   "metadata": {},
   "outputs": [
    {
     "name": "stdout",
     "output_type": "stream",
     "text": [
      "The AUC of KNN after selection: 0.9666666666666667\n"
     ]
    }
   ],
   "source": [
    "print(\"The AUC of KNN after selection: {}\".format(grid.score(X_test, y_test)))"
   ]
  },
  {
   "cell_type": "markdown",
   "metadata": {},
   "source": [
    "# KNN "
   ]
  },
  {
   "cell_type": "code",
   "execution_count": 20,
   "metadata": {},
   "outputs": [],
   "source": [
    "knn = KNeighborsClassifier(n_neighbors=2)"
   ]
  },
  {
   "cell_type": "code",
   "execution_count": 21,
   "metadata": {},
   "outputs": [
    {
     "data": {
      "text/plain": [
       "KNeighborsClassifier(n_neighbors=2)"
      ]
     },
     "execution_count": 21,
     "metadata": {},
     "output_type": "execute_result"
    }
   ],
   "source": [
    "knn.fit(X_train , y_train)"
   ]
  },
  {
   "cell_type": "code",
   "execution_count": 22,
   "metadata": {},
   "outputs": [],
   "source": [
    "knn_pred = knn.predict(X_test)"
   ]
  },
  {
   "cell_type": "code",
   "execution_count": 23,
   "metadata": {},
   "outputs": [],
   "source": [
    "aa = pd.DataFrame(knn_pred)"
   ]
  },
  {
   "cell_type": "code",
   "execution_count": 24,
   "metadata": {},
   "outputs": [
    {
     "data": {
      "text/plain": [
       "0    91\n",
       "1    29\n",
       "dtype: int64"
      ]
     },
     "execution_count": 24,
     "metadata": {},
     "output_type": "execute_result"
    }
   ],
   "source": [
    "aa.value_counts()"
   ]
  },
  {
   "cell_type": "code",
   "execution_count": 25,
   "metadata": {},
   "outputs": [],
   "source": [
    "#knn_pred.reshape(116 , 1)"
   ]
  },
  {
   "cell_type": "code",
   "execution_count": 26,
   "metadata": {},
   "outputs": [
    {
     "data": {
      "text/plain": [
       "(120, 1)"
      ]
     },
     "execution_count": 26,
     "metadata": {},
     "output_type": "execute_result"
    }
   ],
   "source": [
    "y_test.shape"
   ]
  },
  {
   "cell_type": "code",
   "execution_count": 27,
   "metadata": {},
   "outputs": [
    {
     "name": "stdout",
     "output_type": "stream",
     "text": [
      "Accuracy= 0.9166666666666666\n"
     ]
    }
   ],
   "source": [
    "acc = accuracy_score(y_test , knn_pred)\n",
    "print('Accuracy=' , acc)"
   ]
  },
  {
   "cell_type": "code",
   "execution_count": 28,
   "metadata": {},
   "outputs": [
    {
     "data": {
      "text/plain": [
       "0    91\n",
       "1    29\n",
       "dtype: int64"
      ]
     },
     "execution_count": 28,
     "metadata": {},
     "output_type": "execute_result"
    }
   ],
   "source": [
    "aa.value_counts()"
   ]
  },
  {
   "cell_type": "markdown",
   "metadata": {},
   "source": [
    "# RESULTS"
   ]
  },
  {
   "cell_type": "markdown",
   "metadata": {},
   "source": [
    "# KNN scores"
   ]
  },
  {
   "cell_type": "code",
   "execution_count": 29,
   "metadata": {},
   "outputs": [
    {
     "name": "stdout",
     "output_type": "stream",
     "text": [
      "Accuracy= 0.9166666666666666\n",
      "f1_score =  0.8076923076923076\n",
      "precision = 0.7241379310344828\n",
      "roc_auc score= 0.915284625728373\n",
      "Confusion Matrix:\n",
      " [[89  8]\n",
      " [ 2 21]] \n",
      "\n",
      "Sensitivity= 0.9130434782608695 \n",
      "\n",
      "Specificity= 0.9175257731958762 \n",
      "\n"
     ]
    }
   ],
   "source": [
    "\n",
    "\n",
    "acc = accuracy_score(y_test , knn_pred)\n",
    "print('Accuracy=' , acc)\n",
    "\n",
    "f1 = f1_score(y_test , knn_pred)\n",
    "print('f1_score = ' , f1)\n",
    "\n",
    "\n",
    "precision = precision_score(y_test , knn_pred)\n",
    "print('precision =' ,  precision)\n",
    "\n",
    "roc = roc_auc_score( y_test , knn_pred)\n",
    "print('roc_auc score=', roc)\n",
    "\n",
    "\n",
    "\n",
    "\n",
    "cm=confusion_matrix(y_test,knn_pred)\n",
    "print(\"Confusion Matrix:\\n\",cm,\"\\n\")\n",
    "\n",
    "\n",
    "TN=cm[0,0]\n",
    "FP=cm[0,1]\n",
    "FN=cm[1,0]\n",
    "TP=cm[1,1]\n",
    "\n",
    "#Sensitivity\n",
    "\n",
    "sen=TP/float(TP+FN)\n",
    "print(\"Sensitivity=\",sen,\"\\n\")\n",
    "\n",
    "#Specificity\n",
    "\n",
    "spe=TN/float(TN+FP)\n",
    "print(\"Specificity=\",spe,\"\\n\")\n",
    "import math\n",
    "#MCC\n",
    "mcc= float((TP*TN)-(FP*FN))/float(math.sqrt((TP+FP)*(TP+FN)*(TN+FP)*(TN+FN)))\n",
    "print(\"MCC =\",mcc)"
   ]
  },
  {
   "cell_type": "markdown",
   "metadata": {},
   "source": [
    "# SVM SCORES"
   ]
  },
  {
   "cell_type": "code",
   "execution_count": 30,
   "metadata": {},
   "outputs": [
    {
     "name": "stdout",
     "output_type": "stream",
     "text": [
      "Accuracy= 0.9666666666666667\n",
      "f1_score =  0.9166666666666666\n",
      "precision = 0.88\n",
      "roc_auc score= 0.9627969520394442\n",
      "classification report \n",
      "               precision    recall  f1-score   support\n",
      "\n",
      "           0       0.99      0.97      0.98        97\n",
      "           1       0.88      0.96      0.92        23\n",
      "\n",
      "    accuracy                           0.97       120\n",
      "   macro avg       0.93      0.96      0.95       120\n",
      "weighted avg       0.97      0.97      0.97       120\n",
      "\n",
      "Confusion Matrix:\n",
      " [[94  3]\n",
      " [ 1 22]] \n",
      "\n",
      "Sensitivity= 0.9565217391304348 \n",
      "\n",
      "Specificity= 0.9690721649484536 \n",
      "\n"
     ]
    }
   ],
   "source": [
    "acc = accuracy_score(y_test , grid_pred)\n",
    "print('Accuracy=' , acc)\n",
    "\n",
    "f1 = f1_score(y_test , grid_pred)\n",
    "print('f1_score = ' , f1)\n",
    "\n",
    "\n",
    "precision = precision_score(y_test , grid_pred)\n",
    "print('precision =' ,  precision)\n",
    "\n",
    "roc = roc_auc_score( y_test , grid_pred)\n",
    "print('roc_auc score=', roc)\n",
    "\n",
    "print('classification report \\n',classification_report(y_test , grid_pred))\n",
    "\n",
    "\n",
    "cm=confusion_matrix(y_test,grid_pred)\n",
    "print(\"Confusion Matrix:\\n\",cm,\"\\n\")\n",
    "\n",
    "cm\n",
    "\n",
    "\n",
    "TN=cm[0,0]\n",
    "FP=cm[0,1]\n",
    "FN=cm[1,0]\n",
    "TP=cm[1,1]\n",
    "\n",
    "#Sensitivity\n",
    "\n",
    "sen=TP/float(TP+FN)\n",
    "print(\"Sensitivity=\",sen,\"\\n\")\n",
    "\n",
    "#Specificity\n",
    "\n",
    "spe=TN/float(TN+FP)\n",
    "print(\"Specificity=\",spe,\"\\n\")\n",
    "import math\n",
    "#MCC\n",
    "mcc= float((TP*TN)-(FP*FN))/float(math.sqrt((TP+FP)*(TP+FN)*(TN+FP)*(TN+FN)))\n",
    "print(\"MCC =\",mcc)"
   ]
  },
  {
   "cell_type": "markdown",
   "metadata": {},
   "source": [
    "# Random Forest"
   ]
  },
  {
   "cell_type": "code",
   "execution_count": 31,
   "metadata": {},
   "outputs": [
    {
     "name": "stdout",
     "output_type": "stream",
     "text": [
      "The AUC of RF after selection: 0.9894666069027342\n"
     ]
    }
   ],
   "source": [
    "param_grid = {'n_estimators': [5, 10, 15, 20, 25,30]}\n",
    "gr_raw_RF = GridSearchCV(RandomForestClassifier(random_state=1994), param_grid, cv=5, scoring='roc_auc')\n",
    "gr_raw_RF.fit(X_train , y_train)\n",
    "print(\"The AUC of RF after selection: {}\".format(gr_raw_RF.score(X_test, y_test)))"
   ]
  },
  {
   "cell_type": "code",
   "execution_count": 32,
   "metadata": {},
   "outputs": [
    {
     "name": "stdout",
     "output_type": "stream",
     "text": [
      "Accuracy = 0.9824999999999999 \n",
      "\n",
      "F1 Score= 0.9823240352652117 \n",
      "\n",
      "Precision= 0.9857142857142858 \n",
      "\n",
      "Recall = 0.9558479532163743 \n",
      "\n",
      "Auc = 0.9911329061902066 \n",
      "\n",
      "Confusion Matrix:\n",
      " [[296   2]\n",
      " [  3  96]] \n",
      "\n",
      "Sensitivity= 0.9696969696969697 \n",
      "\n",
      "Specificity= 0.9932885906040269 \n",
      "\n",
      "MCC = 0.966266387331312\n"
     ]
    }
   ],
   "source": [
    "from sklearn.ensemble import RandomForestClassifier\n",
    "\n",
    "rf=RandomForestClassifier(n_estimators=9)\n",
    "kf=KFold(n_splits=10,shuffle=True,random_state=5)\n",
    "\n",
    "#Accuracy\n",
    "acc =cross_val_score(rf,X, y,cv=kf,scoring=\"accuracy\")\n",
    "print(\"Accuracy =\",acc.mean(),\"\\n\")\n",
    "\n",
    "#F1-Score\n",
    "f1 =cross_val_score(rf,X, y,cv=kf,scoring=\"f1\")\n",
    "print(\"F1 Score=\",f1.mean(),\"\\n\")\n",
    "\n",
    "#precision\n",
    "precision =cross_val_score(rf,X, y,cv=kf,scoring=\"precision\")\n",
    "print(\"Precision=\",precision.mean(),\"\\n\")\n",
    "\n",
    "#Recall\n",
    "recall =cross_val_score(rf,X, y,cv=kf,scoring=\"recall\")\n",
    "print(\"Recall =\",recall.mean(),\"\\n\")\n",
    "\n",
    "#auc\n",
    "auc =cross_val_score(rf,X, y,cv=kf,scoring=\"roc_auc\")\n",
    "print(\"Auc =\",auc.mean(),\"\\n\")\n",
    "\n",
    "y_pred=cross_val_predict(rf,X,y,cv=kf)\n",
    "\n",
    "#Confusion Matrix\n",
    "cm=confusion_matrix(y,y_pred)\n",
    "print(\"Confusion Matrix:\\n\",cm,\"\\n\")\n",
    "\n",
    "#confusion metrics measures\n",
    "TN=cm[0,0]\n",
    "FP=cm[0,1]\n",
    "FN=cm[1,0]\n",
    "TP=cm[1,1]\n",
    "\n",
    "#Sensitivity\n",
    "sen=TP/float(TP+FN)\n",
    "print(\"Sensitivity=\",sen,\"\\n\")\n",
    "\n",
    "#Specificity\n",
    "spe=TN/float(TN+FP)\n",
    "print(\"Specificity=\",spe,\"\\n\")\n",
    "import math\n",
    "#MCC\n",
    "mcc= float((TP*TN)-(FP*FN))/float(math.sqrt((TP+FP)*(TP+FN)*(TN+FP)*(TN+FN)))\n",
    "print(\"MCC =\",mcc)"
   ]
  },
  {
   "cell_type": "code",
   "execution_count": 33,
   "metadata": {},
   "outputs": [],
   "source": [
    "Rf_pred = gr_raw_RF.predict(X_test)"
   ]
  },
  {
   "cell_type": "code",
   "execution_count": 34,
   "metadata": {},
   "outputs": [],
   "source": [
    "from sklearn.naive_bayes import GaussianNB"
   ]
  },
  {
   "cell_type": "code",
   "execution_count": 35,
   "metadata": {},
   "outputs": [],
   "source": [
    "GNB =  GaussianNB()"
   ]
  },
  {
   "cell_type": "code",
   "execution_count": 36,
   "metadata": {},
   "outputs": [
    {
     "data": {
      "text/plain": [
       "GaussianNB()"
      ]
     },
     "execution_count": 36,
     "metadata": {},
     "output_type": "execute_result"
    }
   ],
   "source": [
    "GNB.fit(X=X_train, y=y_train)"
   ]
  },
  {
   "cell_type": "code",
   "execution_count": 37,
   "metadata": {},
   "outputs": [],
   "source": [
    "predicted = GNB.predict(X=X_test)"
   ]
  },
  {
   "cell_type": "code",
   "execution_count": 38,
   "metadata": {},
   "outputs": [],
   "source": [
    "expected = y_test"
   ]
  },
  {
   "cell_type": "code",
   "execution_count": 39,
   "metadata": {},
   "outputs": [
    {
     "data": {
      "text/plain": [
       "array([0, 0, 0, 0, 0, 0, 0, 0, 0, 1, 0, 0, 0, 0, 0, 0, 1, 0, 0, 0],\n",
       "      dtype=int64)"
      ]
     },
     "execution_count": 39,
     "metadata": {},
     "output_type": "execute_result"
    }
   ],
   "source": [
    "predicted[:20]"
   ]
  },
  {
   "cell_type": "code",
   "execution_count": 40,
   "metadata": {},
   "outputs": [
    {
     "data": {
      "text/html": [
       "<div>\n",
       "<style scoped>\n",
       "    .dataframe tbody tr th:only-of-type {\n",
       "        vertical-align: middle;\n",
       "    }\n",
       "\n",
       "    .dataframe tbody tr th {\n",
       "        vertical-align: top;\n",
       "    }\n",
       "\n",
       "    .dataframe thead th {\n",
       "        text-align: right;\n",
       "    }\n",
       "</style>\n",
       "<table border=\"1\" class=\"dataframe\">\n",
       "  <thead>\n",
       "    <tr style=\"text-align: right;\">\n",
       "      <th></th>\n",
       "      <th>Label</th>\n",
       "    </tr>\n",
       "  </thead>\n",
       "  <tbody>\n",
       "    <tr>\n",
       "      <th>164</th>\n",
       "      <td>0</td>\n",
       "    </tr>\n",
       "    <tr>\n",
       "      <th>143</th>\n",
       "      <td>0</td>\n",
       "    </tr>\n",
       "    <tr>\n",
       "      <th>302</th>\n",
       "      <td>0</td>\n",
       "    </tr>\n",
       "    <tr>\n",
       "      <th>253</th>\n",
       "      <td>0</td>\n",
       "    </tr>\n",
       "    <tr>\n",
       "      <th>288</th>\n",
       "      <td>0</td>\n",
       "    </tr>\n",
       "    <tr>\n",
       "      <th>292</th>\n",
       "      <td>0</td>\n",
       "    </tr>\n",
       "    <tr>\n",
       "      <th>163</th>\n",
       "      <td>0</td>\n",
       "    </tr>\n",
       "    <tr>\n",
       "      <th>245</th>\n",
       "      <td>0</td>\n",
       "    </tr>\n",
       "    <tr>\n",
       "      <th>309</th>\n",
       "      <td>0</td>\n",
       "    </tr>\n",
       "    <tr>\n",
       "      <th>79</th>\n",
       "      <td>1</td>\n",
       "    </tr>\n",
       "    <tr>\n",
       "      <th>394</th>\n",
       "      <td>0</td>\n",
       "    </tr>\n",
       "    <tr>\n",
       "      <th>206</th>\n",
       "      <td>0</td>\n",
       "    </tr>\n",
       "    <tr>\n",
       "      <th>167</th>\n",
       "      <td>0</td>\n",
       "    </tr>\n",
       "    <tr>\n",
       "      <th>382</th>\n",
       "      <td>0</td>\n",
       "    </tr>\n",
       "    <tr>\n",
       "      <th>296</th>\n",
       "      <td>0</td>\n",
       "    </tr>\n",
       "    <tr>\n",
       "      <th>352</th>\n",
       "      <td>0</td>\n",
       "    </tr>\n",
       "    <tr>\n",
       "      <th>58</th>\n",
       "      <td>1</td>\n",
       "    </tr>\n",
       "    <tr>\n",
       "      <th>233</th>\n",
       "      <td>0</td>\n",
       "    </tr>\n",
       "    <tr>\n",
       "      <th>188</th>\n",
       "      <td>0</td>\n",
       "    </tr>\n",
       "    <tr>\n",
       "      <th>324</th>\n",
       "      <td>0</td>\n",
       "    </tr>\n",
       "  </tbody>\n",
       "</table>\n",
       "</div>"
      ],
      "text/plain": [
       "     Label\n",
       "164      0\n",
       "143      0\n",
       "302      0\n",
       "253      0\n",
       "288      0\n",
       "292      0\n",
       "163      0\n",
       "245      0\n",
       "309      0\n",
       "79       1\n",
       "394      0\n",
       "206      0\n",
       "167      0\n",
       "382      0\n",
       "296      0\n",
       "352      0\n",
       "58       1\n",
       "233      0\n",
       "188      0\n",
       "324      0"
      ]
     },
     "execution_count": 40,
     "metadata": {},
     "output_type": "execute_result"
    }
   ],
   "source": [
    "expected[:20]"
   ]
  },
  {
   "cell_type": "code",
   "execution_count": 41,
   "metadata": {},
   "outputs": [],
   "source": [
    "wrong = [(p, e) for (p, e) in zip(predicted, expected) if p != e]"
   ]
  },
  {
   "cell_type": "code",
   "execution_count": 42,
   "metadata": {},
   "outputs": [
    {
     "data": {
      "text/plain": [
       "[(0, 'Label')]"
      ]
     },
     "execution_count": 42,
     "metadata": {},
     "output_type": "execute_result"
    }
   ],
   "source": [
    "wrong"
   ]
  },
  {
   "cell_type": "code",
   "execution_count": 43,
   "metadata": {},
   "outputs": [
    {
     "name": "stdout",
     "output_type": "stream",
     "text": [
      "95.83%\n"
     ]
    }
   ],
   "source": [
    "print(f'{GNB.score(X_test, y_test):.2%}')"
   ]
  },
  {
   "cell_type": "markdown",
   "metadata": {},
   "source": [
    "# GaussianNB"
   ]
  },
  {
   "cell_type": "code",
   "execution_count": 45,
   "metadata": {},
   "outputs": [],
   "source": [
    "from sklearn.model_selection import cross_val_score,KFold,cross_val_predict\n",
    "from sklearn.metrics import confusion_matrix,classification_report,accuracy_score\n",
    "import sklearn"
   ]
  },
  {
   "cell_type": "code",
   "execution_count": 48,
   "metadata": {},
   "outputs": [
    {
     "name": "stdout",
     "output_type": "stream",
     "text": [
      "Accuracy = 0.9094230769230769 \n",
      "\n",
      "F1 Score= 0.8318738469768219 \n",
      "\n",
      "Precision= 0.7336996336996338 \n",
      "\n",
      "Recall = 0.9805555555555555 \n",
      "\n",
      "Auc = 0.9704213157342604 \n",
      "\n",
      "Confusion Matrix:\n",
      " [[264  34]\n",
      " [  2  97]] \n",
      "\n",
      "Sensitivity= 0.9797979797979798 \n",
      "\n",
      "Specificity= 0.8859060402684564 \n",
      "\n",
      "MCC = 0.7965603729314897\n"
     ]
    }
   ],
   "source": [
    "from sklearn.naive_bayes import GaussianNB\n",
    "nb=GaussianNB()\n",
    "\n",
    "kf=KFold(n_splits=10,shuffle=True,random_state=5)\n",
    "\n",
    "#Accuracy\n",
    "acc =cross_val_score(nb,X, y,cv=kf,scoring=\"accuracy\")\n",
    "print(\"Accuracy =\",acc.mean(),\"\\n\")\n",
    "\n",
    "#F1-Score\n",
    "f1 =cross_val_score(nb,X, y,cv=kf,scoring=\"f1\")\n",
    "print(\"F1 Score=\",f1.mean(),\"\\n\")\n",
    "\n",
    "#precision\n",
    "precision =cross_val_score(nb,X, y,cv=kf,scoring=\"precision\")\n",
    "print(\"Precision=\",precision.mean(),\"\\n\")\n",
    "\n",
    "#Recall\n",
    "recall =cross_val_score(nb,X, y,cv=kf,scoring=\"recall\")\n",
    "print(\"Recall =\",recall.mean(),\"\\n\")\n",
    "\n",
    "#auc\n",
    "auc =cross_val_score(nb,X, y,cv=kf,scoring=\"roc_auc\")\n",
    "print(\"Auc =\",auc.mean(),\"\\n\")\n",
    "\n",
    "y_pred=cross_val_predict(nb,X,y,cv=kf)\n",
    "\n",
    "#Confusion Matrix\n",
    "cm=confusion_matrix(y,y_pred)\n",
    "print(\"Confusion Matrix:\\n\",cm,\"\\n\")\n",
    "\n",
    "#confusion metrics measures\n",
    "TN=cm[0,0]\n",
    "FP=cm[0,1]\n",
    "FN=cm[1,0]\n",
    "TP=cm[1,1]\n",
    "\n",
    "#Sensitivity\n",
    "sen=TP/float(TP+FN)\n",
    "print(\"Sensitivity=\",sen,\"\\n\")\n",
    "\n",
    "#Specificity\n",
    "spe=TN/float(TN+FP)\n",
    "print(\"Specificity=\",spe,\"\\n\")\n",
    "\n",
    "#MCC\n",
    "mcc= float((TP*TN)-(FP*FN))/float(math.sqrt((TP+FP)*(TP+FN)*(TN+FP)*(TN+FN)))\n",
    "print(\"MCC =\",mcc)"
   ]
  },
  {
   "cell_type": "code",
   "execution_count": 50,
   "metadata": {},
   "outputs": [],
   "source": [
    "GNB =  GaussianNB()"
   ]
  },
  {
   "cell_type": "code",
   "execution_count": 51,
   "metadata": {},
   "outputs": [
    {
     "name": "stdout",
     "output_type": "stream",
     "text": [
      "The AUC of GNB after selection: 0.9583333333333334\n"
     ]
    }
   ],
   "source": [
    "GNB.fit(X_train,y_train)\n",
    "print(\"The AUC of GNB after selection: {}\".format(GNB.score(X_test, y_test)))"
   ]
  },
  {
   "cell_type": "code",
   "execution_count": 52,
   "metadata": {},
   "outputs": [],
   "source": [
    "GNB_pred = GNB.predict(X_test)"
   ]
  },
  {
   "cell_type": "code",
   "execution_count": 53,
   "metadata": {},
   "outputs": [
    {
     "name": "stdout",
     "output_type": "stream",
     "text": [
      "Accuracy= 0.9583333333333334\n",
      "f1_score =  0.8837209302325583\n",
      "precision = 0.95\n",
      "roc_auc score= 0.9078888390856119\n",
      "classification report \n",
      "               precision    recall  f1-score   support\n",
      "\n",
      "           0       0.96      0.99      0.97        97\n",
      "           1       0.95      0.83      0.88        23\n",
      "\n",
      "    accuracy                           0.96       120\n",
      "   macro avg       0.95      0.91      0.93       120\n",
      "weighted avg       0.96      0.96      0.96       120\n",
      "\n",
      "Confusion Matrix:\n",
      " [[96  1]\n",
      " [ 4 19]] \n",
      "\n",
      "Sensitivity= 0.8260869565217391 \n",
      "\n",
      "Specificity= 0.9896907216494846 \n",
      "\n"
     ]
    }
   ],
   "source": [
    "acc = accuracy_score(y_test , GNB_pred)\n",
    "print('Accuracy=' , acc)\n",
    "\n",
    "f1 = f1_score(y_test , GNB_pred)\n",
    "print('f1_score = ' , f1)\n",
    "\n",
    "\n",
    "precision = precision_score(y_test , GNB_pred)\n",
    "print('precision =' ,  precision)\n",
    "\n",
    "roc = roc_auc_score( y_test , GNB_pred)\n",
    "print('roc_auc score=', roc)\n",
    "\n",
    "print('classification report \\n',classification_report(y_test , GNB_pred))\n",
    "\n",
    "\n",
    "cm=confusion_matrix(y_test,GNB_pred)\n",
    "print(\"Confusion Matrix:\\n\",cm,\"\\n\")\n",
    "\n",
    "cm\n",
    "\n",
    "\n",
    "TN=cm[0,0]\n",
    "FP=cm[0,1]\n",
    "FN=cm[1,0]\n",
    "TP=cm[1,1]\n",
    "\n",
    "#Sensitivity\n",
    "\n",
    "sen=TP/float(TP+FN)\n",
    "print(\"Sensitivity=\",sen,\"\\n\")\n",
    "\n",
    "#Specificity\n",
    "\n",
    "spe=TN/float(TN+FP)\n",
    "print(\"Specificity=\",spe,\"\\n\")"
   ]
  },
  {
   "cell_type": "code",
   "execution_count": 54,
   "metadata": {},
   "outputs": [],
   "source": [
    "false_positive_rate1, true_positive_rate1, threshold1 = roc_curve(y_test, knn_pred)\n",
    "false_positive_rate2, true_positive_rate2, threshold2 = roc_curve(y_test, grid_pred)\n",
    "false_positive_rate3, true_positive_rate3, threshold3 = roc_curve(y_test, Rf_pred)\n",
    "false_positive_rate4, true_positive_rate4, threshold = roc_curve(y_test, GNB_pred)"
   ]
  },
  {
   "cell_type": "code",
   "execution_count": 55,
   "metadata": {},
   "outputs": [
    {
     "data": {
      "image/png": "[encoded data removed]",
      "text/plain": [
       "<Figure size 720x576 with 1 Axes>"
      ]
     },
     "metadata": {
      "needs_background": "light"
     },
     "output_type": "display_data"
    }
   ],
   "source": [
    "plt.figure(figsize=(10,8))\n",
    "plt.plot([0,1],[0,1], 'k--')\n",
    "plt.plot(false_positive_rate1, true_positive_rate1, label= \"K Nearest Neighbor =0.91\" , color = 'red' , linewidth = 1.5 )\n",
    "plt.plot(false_positive_rate2, true_positive_rate2, label= \"Support Vector Machine=0.96\", color = 'green', linewidth = 1.5 ) \n",
    "plt.plot(false_positive_rate3, true_positive_rate3, label= \"Random Forest= 0.99\", color = 'purple', linewidth =  1.5 ) \n",
    "plt.plot(false_positive_rate4, true_positive_rate4, label= \"Gaussian Naive Bayes=0.90\", color = 'blue', linewidth =   1.5 ) \n",
    "\n",
    "plt.legend()\n",
    "plt.xlabel(\"False Positive Rate\")\n",
    "plt.ylabel(\"True Positive Rate\")\n",
    "plt.savefig('ROC.jpg',dpi=600)\n",
    "plt.show()\n"
   ]
  },
  {
   "cell_type": "code",
   "execution_count": 57,
   "metadata": {},
   "outputs": [
    {
     "data": {
      "image/png": "[encoded data removed]",
      "text/plain": [
       "<Figure size 720x576 with 1 Axes>"
      ]
     },
     "metadata": {
      "needs_background": "light"
     },
     "output_type": "display_data"
    }
   ],
   "source": [
    "df['Data sets'] = 'test set (N = 120)'\n",
    "df.loc[y_train.index, 'Data sets'] = 'training set (N = 277)'\n",
    "plt.figure(figsize=(10,8))\n",
    "sns.scatterplot(df.Weight, df.h_logP, hue=df['Data sets']  ,s = 60,  linewidth = 0.65  , edgecolor = 'black' )\n",
    "plt.savefig('figure 1A.jpg',dpi=1200)"
   ]
  },
  {
   "cell_type": "code",
   "execution_count": null,
   "metadata": {},
   "outputs": [],
   "source": []
  }
 ],
 "metadata": {
  "kernelspec": {
   "display_name": "Python 3 (ipykernel)",
   "language": "python",
   "name": "python3"
  },
  "language_info": {
   "codemirror_mode": {
    "name": "ipython",
    "version": 3
   },
   "file_extension": ".py",
   "mimetype": "text/x-python",
   "name": "python",
   "nbconvert_exporter": "python",
   "pygments_lexer": "ipython3",
   "version": "3.11.5"
  }
 },
 "nbformat": 4,
 "nbformat_minor": 4
}
