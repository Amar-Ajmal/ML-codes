{
 "cells": [
  {
   "cell_type": "code",
   "execution_count": 1,
   "metadata": {},
   "outputs": [],
   "source": [
    "import pandas as pd\n",
    "import numpy as np\n",
    "import matplotlib.pyplot as plt\n",
    "import seaborn as sns\n",
    "import csv\n",
    "from sklearn.feature_selection import SelectKBest, chi2\n",
    "from sklearn import preprocessing\n",
    "from sklearn.svm import SVC\n",
    "from sklearn.model_selection import cross_val_score,KFold,cross_val_predict\n",
    "from sklearn.metrics import confusion_matrix,classification_report,accuracy_score\n",
    "import sklearn\n",
    "from sklearn.metrics import f1_score\n",
    "from sklearn import metrics\n",
    "from sklearn.metrics import accuracy_score\n",
    "from sklearn.metrics import precision_score\n",
    "from sklearn.metrics import recall_score\n",
    "from sklearn.metrics import roc_curve, roc_auc_score\n",
    "from sklearn.neighbors import KNeighborsClassifier\n",
    "from sklearn.preprocessing import StandardScaler\n",
    "from sklearn.model_selection import train_test_split, GridSearchCV\n",
    "from sklearn.pipeline import make_pipeline\n",
    "from sklearn.svm import SVC\n",
    "from sklearn.feature_selection import RFECV\n",
    "from sklearn.metrics import roc_auc_score, roc_curve, auc\n",
    "\n",
    "# models\n",
    "from sklearn.neighbors import KNeighborsClassifier\n",
    "from sklearn.naive_bayes import GaussianNB\n",
    "from sklearn.ensemble import RandomForestClassifier, GradientBoostingClassifier, ExtraTreesClassifier\n",
    "from sklearn.linear_model import LogisticRegression\n",
    "from sklearn.neural_network import MLPClassifier\n",
    "#from mlxtend.classifier import StackingCVClassifier\n",
    "#from xgboost import XGBClassifier\n",
    "#from lightgbm import LGBMModel"
   ]
  },
  {
   "cell_type": "code",
   "execution_count": 2,
   "metadata": {
    "scrolled": true
   },
   "outputs": [],
   "source": [
    "df = pd.read_csv('optimum.inde.csv')"
   ]
  },
  {
   "cell_type": "code",
   "execution_count": 3,
   "metadata": {},
   "outputs": [
    {
     "data": {
      "text/html": [
       "<div>\n",
       "<style scoped>\n",
       "    .dataframe tbody tr th:only-of-type {\n",
       "        vertical-align: middle;\n",
       "    }\n",
       "\n",
       "    .dataframe tbody tr th {\n",
       "        vertical-align: top;\n",
       "    }\n",
       "\n",
       "    .dataframe thead th {\n",
       "        text-align: right;\n",
       "    }\n",
       "</style>\n",
       "<table border=\"1\" class=\"dataframe\">\n",
       "  <thead>\n",
       "    <tr style=\"text-align: right;\">\n",
       "      <th></th>\n",
       "      <th>mol</th>\n",
       "      <th>PEOE_VSA+2</th>\n",
       "      <th>PEOE_VSA_POS</th>\n",
       "      <th>PEOE_VSA+0</th>\n",
       "      <th>PEOE_VSA-0</th>\n",
       "      <th>SlogP_VSA3</th>\n",
       "      <th>SMR_VSA6</th>\n",
       "      <th>vsa_hyd</th>\n",
       "      <th>PEOE_VSA_NEG</th>\n",
       "      <th>Weight</th>\n",
       "      <th>PEOE_VSA_HYD</th>\n",
       "      <th>Q_VSA_HYD</th>\n",
       "      <th>Q_VSA_POS</th>\n",
       "      <th>vdw_area</th>\n",
       "      <th>Label</th>\n",
       "    </tr>\n",
       "  </thead>\n",
       "  <tbody>\n",
       "    <tr>\n",
       "      <th>0</th>\n",
       "      <td>Clc1c(-c2c(C)ccc3n[nH]cc23)cc2N(c3c(C(C)C)cccc...</td>\n",
       "      <td>119.387640</td>\n",
       "      <td>389.01550</td>\n",
       "      <td>203.301900</td>\n",
       "      <td>54.051102</td>\n",
       "      <td>73.758316</td>\n",
       "      <td>86.174973</td>\n",
       "      <td>431.06790</td>\n",
       "      <td>135.29155</td>\n",
       "      <td>567.09302</td>\n",
       "      <td>466.78311</td>\n",
       "      <td>524.30707</td>\n",
       "      <td>524.30707</td>\n",
       "      <td>524.30707</td>\n",
       "      <td>1</td>\n",
       "    </tr>\n",
       "    <tr>\n",
       "      <th>1</th>\n",
       "      <td>Clc1c(-c2c(F)cccc2O)nc2N(c3c(C(C)C)nccc3C)C(=O...</td>\n",
       "      <td>96.267998</td>\n",
       "      <td>431.28537</td>\n",
       "      <td>228.293260</td>\n",
       "      <td>2.208540</td>\n",
       "      <td>55.318733</td>\n",
       "      <td>67.735397</td>\n",
       "      <td>422.21329</td>\n",
       "      <td>101.44762</td>\n",
       "      <td>577.06000</td>\n",
       "      <td>451.93527</td>\n",
       "      <td>532.73297</td>\n",
       "      <td>532.73297</td>\n",
       "      <td>532.73297</td>\n",
       "      <td>1</td>\n",
       "    </tr>\n",
       "    <tr>\n",
       "      <th>2</th>\n",
       "      <td>Clc1c(-c2c(F)cccc2O)nc2N(c3c(C(C)C)ncnc3C(C)C)...</td>\n",
       "      <td>96.267998</td>\n",
       "      <td>458.28442</td>\n",
       "      <td>244.101760</td>\n",
       "      <td>0.000000</td>\n",
       "      <td>55.318733</td>\n",
       "      <td>67.735397</td>\n",
       "      <td>422.21329</td>\n",
       "      <td>104.92165</td>\n",
       "      <td>606.10199</td>\n",
       "      <td>476.72580</td>\n",
       "      <td>563.20605</td>\n",
       "      <td>563.20605</td>\n",
       "      <td>563.20605</td>\n",
       "      <td>1</td>\n",
       "    </tr>\n",
       "    <tr>\n",
       "      <th>3</th>\n",
       "      <td>Clc1c(-c2c(F)cccc2O)nc2N(c3c(CC)cccc3C)C(=O)N=...</td>\n",
       "      <td>96.267998</td>\n",
       "      <td>372.66934</td>\n",
       "      <td>196.676270</td>\n",
       "      <td>51.842564</td>\n",
       "      <td>55.318733</td>\n",
       "      <td>67.735397</td>\n",
       "      <td>413.23126</td>\n",
       "      <td>145.39906</td>\n",
       "      <td>562.04498</td>\n",
       "      <td>442.95325</td>\n",
       "      <td>518.06836</td>\n",
       "      <td>518.06836</td>\n",
       "      <td>518.06836</td>\n",
       "      <td>1</td>\n",
       "    </tr>\n",
       "    <tr>\n",
       "      <th>4</th>\n",
       "      <td>Clc1c(-c2c(F)cccc2O)nc2N(c3c(C(C)C)ncnc3C(C)C)...</td>\n",
       "      <td>96.267998</td>\n",
       "      <td>458.28442</td>\n",
       "      <td>244.101760</td>\n",
       "      <td>0.000000</td>\n",
       "      <td>55.318733</td>\n",
       "      <td>67.735397</td>\n",
       "      <td>422.21329</td>\n",
       "      <td>104.92165</td>\n",
       "      <td>606.10199</td>\n",
       "      <td>476.72580</td>\n",
       "      <td>563.20605</td>\n",
       "      <td>563.20605</td>\n",
       "      <td>563.20605</td>\n",
       "      <td>1</td>\n",
       "    </tr>\n",
       "    <tr>\n",
       "      <th>...</th>\n",
       "      <td>...</td>\n",
       "      <td>...</td>\n",
       "      <td>...</td>\n",
       "      <td>...</td>\n",
       "      <td>...</td>\n",
       "      <td>...</td>\n",
       "      <td>...</td>\n",
       "      <td>...</td>\n",
       "      <td>...</td>\n",
       "      <td>...</td>\n",
       "      <td>...</td>\n",
       "      <td>...</td>\n",
       "      <td>...</td>\n",
       "      <td>...</td>\n",
       "      <td>...</td>\n",
       "    </tr>\n",
       "    <tr>\n",
       "      <th>392</th>\n",
       "      <td>Clc1cc(CN2CCN(CC(=O)Nc3cc4c(-n5c(-c6cc(Cl)ccc6...</td>\n",
       "      <td>11.190562</td>\n",
       "      <td>271.61749</td>\n",
       "      <td>152.325930</td>\n",
       "      <td>98.902718</td>\n",
       "      <td>92.197891</td>\n",
       "      <td>97.456673</td>\n",
       "      <td>415.53558</td>\n",
       "      <td>239.63213</td>\n",
       "      <td>547.48999</td>\n",
       "      <td>484.59625</td>\n",
       "      <td>511.24960</td>\n",
       "      <td>511.24960</td>\n",
       "      <td>511.24960</td>\n",
       "      <td>0</td>\n",
       "    </tr>\n",
       "    <tr>\n",
       "      <th>393</th>\n",
       "      <td>Clc1c(C(F)(F)F)cc(NC(=O)c2cc(Nc3ncnc4c3nc(N3CC...</td>\n",
       "      <td>64.178246</td>\n",
       "      <td>248.45192</td>\n",
       "      <td>80.380768</td>\n",
       "      <td>90.932053</td>\n",
       "      <td>36.879158</td>\n",
       "      <td>42.137939</td>\n",
       "      <td>334.19284</td>\n",
       "      <td>216.97446</td>\n",
       "      <td>545.92798</td>\n",
       "      <td>379.27011</td>\n",
       "      <td>465.42636</td>\n",
       "      <td>465.42636</td>\n",
       "      <td>465.42636</td>\n",
       "      <td>0</td>\n",
       "    </tr>\n",
       "    <tr>\n",
       "      <th>394</th>\n",
       "      <td>FC(F)(F)c1c(CN2CCN(CC)CC2)ccc(NC(=O)c2cc(C#Cc3...</td>\n",
       "      <td>17.890114</td>\n",
       "      <td>284.97897</td>\n",
       "      <td>170.601120</td>\n",
       "      <td>125.695000</td>\n",
       "      <td>126.259040</td>\n",
       "      <td>132.314210</td>\n",
       "      <td>464.31961</td>\n",
       "      <td>252.12817</td>\n",
       "      <td>545.60901</td>\n",
       "      <td>495.72574</td>\n",
       "      <td>537.10718</td>\n",
       "      <td>537.10718</td>\n",
       "      <td>537.10718</td>\n",
       "      <td>0</td>\n",
       "    </tr>\n",
       "    <tr>\n",
       "      <th>395</th>\n",
       "      <td>FC(F)(F)c1c(N2C(=O)C3(CC2)CCN(CC2CCOCC2)CC3)cc...</td>\n",
       "      <td>0.000000</td>\n",
       "      <td>309.97809</td>\n",
       "      <td>249.217250</td>\n",
       "      <td>164.699870</td>\n",
       "      <td>170.929570</td>\n",
       "      <td>176.188350</td>\n",
       "      <td>465.50208</td>\n",
       "      <td>216.49646</td>\n",
       "      <td>548.69397</td>\n",
       "      <td>488.40881</td>\n",
       "      <td>526.47455</td>\n",
       "      <td>526.47455</td>\n",
       "      <td>526.47455</td>\n",
       "      <td>0</td>\n",
       "    </tr>\n",
       "    <tr>\n",
       "      <th>396</th>\n",
       "      <td>Clc1c(Cl)ccc(OC2CCN(C3CCN(C(=O)NS(=O)(=O)c4ccc...</td>\n",
       "      <td>17.440542</td>\n",
       "      <td>227.94753</td>\n",
       "      <td>131.071730</td>\n",
       "      <td>154.480940</td>\n",
       "      <td>73.758316</td>\n",
       "      <td>78.588272</td>\n",
       "      <td>385.19772</td>\n",
       "      <td>261.82700</td>\n",
       "      <td>546.90302</td>\n",
       "      <td>459.41360</td>\n",
       "      <td>489.77451</td>\n",
       "      <td>489.77451</td>\n",
       "      <td>489.77451</td>\n",
       "      <td>0</td>\n",
       "    </tr>\n",
       "  </tbody>\n",
       "</table>\n",
       "<p>397 rows × 15 columns</p>\n",
       "</div>"
      ],
      "text/plain": [
       "                                                   mol  PEOE_VSA+2  \\\n",
       "0    Clc1c(-c2c(C)ccc3n[nH]cc23)cc2N(c3c(C(C)C)cccc...  119.387640   \n",
       "1    Clc1c(-c2c(F)cccc2O)nc2N(c3c(C(C)C)nccc3C)C(=O...   96.267998   \n",
       "2    Clc1c(-c2c(F)cccc2O)nc2N(c3c(C(C)C)ncnc3C(C)C)...   96.267998   \n",
       "3    Clc1c(-c2c(F)cccc2O)nc2N(c3c(CC)cccc3C)C(=O)N=...   96.267998   \n",
       "4    Clc1c(-c2c(F)cccc2O)nc2N(c3c(C(C)C)ncnc3C(C)C)...   96.267998   \n",
       "..                                                 ...         ...   \n",
       "392  Clc1cc(CN2CCN(CC(=O)Nc3cc4c(-n5c(-c6cc(Cl)ccc6...   11.190562   \n",
       "393  Clc1c(C(F)(F)F)cc(NC(=O)c2cc(Nc3ncnc4c3nc(N3CC...   64.178246   \n",
       "394  FC(F)(F)c1c(CN2CCN(CC)CC2)ccc(NC(=O)c2cc(C#Cc3...   17.890114   \n",
       "395  FC(F)(F)c1c(N2C(=O)C3(CC2)CCN(CC2CCOCC2)CC3)cc...    0.000000   \n",
       "396  Clc1c(Cl)ccc(OC2CCN(C3CCN(C(=O)NS(=O)(=O)c4ccc...   17.440542   \n",
       "\n",
       "     PEOE_VSA_POS  PEOE_VSA+0  PEOE_VSA-0  SlogP_VSA3    SMR_VSA6    vsa_hyd  \\\n",
       "0       389.01550  203.301900   54.051102   73.758316   86.174973  431.06790   \n",
       "1       431.28537  228.293260    2.208540   55.318733   67.735397  422.21329   \n",
       "2       458.28442  244.101760    0.000000   55.318733   67.735397  422.21329   \n",
       "3       372.66934  196.676270   51.842564   55.318733   67.735397  413.23126   \n",
       "4       458.28442  244.101760    0.000000   55.318733   67.735397  422.21329   \n",
       "..            ...         ...         ...         ...         ...        ...   \n",
       "392     271.61749  152.325930   98.902718   92.197891   97.456673  415.53558   \n",
       "393     248.45192   80.380768   90.932053   36.879158   42.137939  334.19284   \n",
       "394     284.97897  170.601120  125.695000  126.259040  132.314210  464.31961   \n",
       "395     309.97809  249.217250  164.699870  170.929570  176.188350  465.50208   \n",
       "396     227.94753  131.071730  154.480940   73.758316   78.588272  385.19772   \n",
       "\n",
       "     PEOE_VSA_NEG     Weight  PEOE_VSA_HYD  Q_VSA_HYD  Q_VSA_POS   vdw_area  \\\n",
       "0       135.29155  567.09302     466.78311  524.30707  524.30707  524.30707   \n",
       "1       101.44762  577.06000     451.93527  532.73297  532.73297  532.73297   \n",
       "2       104.92165  606.10199     476.72580  563.20605  563.20605  563.20605   \n",
       "3       145.39906  562.04498     442.95325  518.06836  518.06836  518.06836   \n",
       "4       104.92165  606.10199     476.72580  563.20605  563.20605  563.20605   \n",
       "..            ...        ...           ...        ...        ...        ...   \n",
       "392     239.63213  547.48999     484.59625  511.24960  511.24960  511.24960   \n",
       "393     216.97446  545.92798     379.27011  465.42636  465.42636  465.42636   \n",
       "394     252.12817  545.60901     495.72574  537.10718  537.10718  537.10718   \n",
       "395     216.49646  548.69397     488.40881  526.47455  526.47455  526.47455   \n",
       "396     261.82700  546.90302     459.41360  489.77451  489.77451  489.77451   \n",
       "\n",
       "     Label  \n",
       "0        1  \n",
       "1        1  \n",
       "2        1  \n",
       "3        1  \n",
       "4        1  \n",
       "..     ...  \n",
       "392      0  \n",
       "393      0  \n",
       "394      0  \n",
       "395      0  \n",
       "396      0  \n",
       "\n",
       "[397 rows x 15 columns]"
      ]
     },
     "execution_count": 3,
     "metadata": {},
     "output_type": "execute_result"
    }
   ],
   "source": [
    "df"
   ]
  },
  {
   "cell_type": "code",
   "execution_count": 4,
   "metadata": {},
   "outputs": [
    {
     "name": "stderr",
     "output_type": "stream",
     "text": [
      "C:\\Users\\A B C\\AppData\\Local\\Temp\\ipykernel_3124\\4172614641.py:1: DeprecationWarning: Importing display from IPython.core.display is deprecated since IPython 7.14, please import from IPython display\n",
      "  from IPython.core.display import display, HTML\n"
     ]
    },
    {
     "data": {
      "text/html": [
       "<style>.container { width:100% !important; }</style>"
      ],
      "text/plain": [
       "<IPython.core.display.HTML object>"
      ]
     },
     "metadata": {},
     "output_type": "display_data"
    }
   ],
   "source": [
    "from IPython.core.display import display, HTML\n",
    "display(HTML(\"<style>.container { width:100% !important; }</style>\"))\n",
    "import warnings\n",
    "warnings.filterwarnings('ignore')"
   ]
  },
  {
   "cell_type": "code",
   "execution_count": 58,
   "metadata": {},
   "outputs": [],
   "source": [
    "X = df.iloc[ : , 1 : 13]\n",
    "y = df.iloc[:, -1:]"
   ]
  },
  {
   "cell_type": "code",
   "execution_count": null,
   "metadata": {},
   "outputs": [],
   "source": []
  },
  {
   "cell_type": "code",
   "execution_count": 59,
   "metadata": {},
   "outputs": [],
   "source": [
    "non_negative =X[X>=0]"
   ]
  },
  {
   "cell_type": "code",
   "execution_count": 60,
   "metadata": {},
   "outputs": [],
   "source": [
    "ddd = non_negative.fillna(value = 0)"
   ]
  },
  {
   "cell_type": "code",
   "execution_count": 61,
   "metadata": {},
   "outputs": [
    {
     "data": {
      "text/plain": [
       "array([[0.09696044, 0.31593817, 0.16511124, ..., 0.37909698, 0.42581495,\n",
       "        0.42581495],\n",
       "       [0.07736291, 0.34658966, 0.18346109, ..., 0.36318434, 0.42811501,\n",
       "        0.42811501],\n",
       "       [0.07372956, 0.35099006, 0.18695223, ..., 0.36511392, 0.43134726,\n",
       "        0.43134726],\n",
       "       ...,\n",
       "       [0.01432609, 0.22820615, 0.13661438, ..., 0.39696845, 0.43010598,\n",
       "        0.43010598],\n",
       "       [0.        , 0.24482191, 0.19683276, ..., 0.38574719, 0.41581167,\n",
       "        0.41581167],\n",
       "       [0.01522755, 0.19902371, 0.11444029, ..., 0.4011195 , 0.42762798,\n",
       "        0.42762798]])"
      ]
     },
     "execution_count": 61,
     "metadata": {},
     "output_type": "execute_result"
    }
   ],
   "source": [
    "    norma =  preprocessing.normalize(ddd)\n",
    "norma"
   ]
  },
  {
   "cell_type": "code",
   "execution_count": 62,
   "metadata": {},
   "outputs": [
    {
     "name": "stdout",
     "output_type": "stream",
     "text": [
      " the shape of training set: (277, 12)\n",
      " the shape of testing set: (120, 12)\n"
     ]
    }
   ],
   "source": [
    "from sklearn.model_selection import train_test_split\n",
    "wq=X_train, X_test, y_train, y_test = train_test_split(norma, y, test_size= 0.3 )\n",
    "print(f\" the shape of training set: {X_train.shape}\")\n",
    "print(f\" the shape of testing set: {X_test.shape}\")"
   ]
  },
  {
   "cell_type": "markdown",
   "metadata": {},
   "source": [
    "# MODELS"
   ]
  },
  {
   "cell_type": "markdown",
   "metadata": {},
   "source": [
    "# SVM"
   ]
  },
  {
   "cell_type": "code",
   "execution_count": 63,
   "metadata": {},
   "outputs": [],
   "source": [
    "param_grid = { 'C': [0.1 , 1 ,10 ,100, 1000],\n",
    "             'gamma': [1 , 0.1 , 0.001 , 0.0001]}"
   ]
  },
  {
   "cell_type": "code",
   "execution_count": 64,
   "metadata": {},
   "outputs": [],
   "source": [
    "from sklearn.model_selection import GridSearchCV"
   ]
  },
  {
   "cell_type": "code",
   "execution_count": 65,
   "metadata": {},
   "outputs": [],
   "source": [
    "grid = GridSearchCV(SVC() , param_grid, verbose = 2)"
   ]
  },
  {
   "cell_type": "code",
   "execution_count": 66,
   "metadata": {},
   "outputs": [
    {
     "name": "stdout",
     "output_type": "stream",
     "text": [
      "Fitting 5 folds for each of 20 candidates, totalling 100 fits\n",
      "[CV] END .....................................C=0.1, gamma=1; total time=   0.0s\n",
      "[CV] END .....................................C=0.1, gamma=1; total time=   0.0s\n",
      "[CV] END .....................................C=0.1, gamma=1; total time=   0.0s\n",
      "[CV] END .....................................C=0.1, gamma=1; total time=   0.0s\n",
      "[CV] END .....................................C=0.1, gamma=1; total time=   0.0s\n",
      "[CV] END ...................................C=0.1, gamma=0.1; total time=   0.0s\n",
      "[CV] END ...................................C=0.1, gamma=0.1; total time=   0.0s\n",
      "[CV] END ...................................C=0.1, gamma=0.1; total time=   0.0s\n",
      "[CV] END ...................................C=0.1, gamma=0.1; total time=   0.0s\n",
      "[CV] END ...................................C=0.1, gamma=0.1; total time=   0.0s\n",
      "[CV] END .................................C=0.1, gamma=0.001; total time=   0.0s\n",
      "[CV] END .................................C=0.1, gamma=0.001; total time=   0.0s\n",
      "[CV] END .................................C=0.1, gamma=0.001; total time=   0.0s\n",
      "[CV] END .................................C=0.1, gamma=0.001; total time=   0.0s\n",
      "[CV] END .................................C=0.1, gamma=0.001; total time=   0.0s\n",
      "[CV] END ................................C=0.1, gamma=0.0001; total time=   0.0s\n",
      "[CV] END ................................C=0.1, gamma=0.0001; total time=   0.0s\n",
      "[CV] END ................................C=0.1, gamma=0.0001; total time=   0.0s\n",
      "[CV] END ................................C=0.1, gamma=0.0001; total time=   0.0s\n",
      "[CV] END ................................C=0.1, gamma=0.0001; total time=   0.0s\n",
      "[CV] END .......................................C=1, gamma=1; total time=   0.0s\n",
      "[CV] END .......................................C=1, gamma=1; total time=   0.0s\n",
      "[CV] END .......................................C=1, gamma=1; total time=   0.0s\n",
      "[CV] END .......................................C=1, gamma=1; total time=   0.0s\n",
      "[CV] END .......................................C=1, gamma=1; total time=   0.0s\n",
      "[CV] END .....................................C=1, gamma=0.1; total time=   0.0s\n",
      "[CV] END .....................................C=1, gamma=0.1; total time=   0.0s\n",
      "[CV] END .....................................C=1, gamma=0.1; total time=   0.0s\n",
      "[CV] END .....................................C=1, gamma=0.1; total time=   0.0s\n",
      "[CV] END .....................................C=1, gamma=0.1; total time=   0.0s\n",
      "[CV] END ...................................C=1, gamma=0.001; total time=   0.0s\n",
      "[CV] END ...................................C=1, gamma=0.001; total time=   0.0s\n",
      "[CV] END ...................................C=1, gamma=0.001; total time=   0.0s\n",
      "[CV] END ...................................C=1, gamma=0.001; total time=   0.0s\n",
      "[CV] END ...................................C=1, gamma=0.001; total time=   0.0s\n",
      "[CV] END ..................................C=1, gamma=0.0001; total time=   0.0s\n",
      "[CV] END ..................................C=1, gamma=0.0001; total time=   0.0s\n",
      "[CV] END ..................................C=1, gamma=0.0001; total time=   0.0s\n",
      "[CV] END ..................................C=1, gamma=0.0001; total time=   0.0s\n",
      "[CV] END ..................................C=1, gamma=0.0001; total time=   0.0s\n",
      "[CV] END ......................................C=10, gamma=1; total time=   0.0s\n",
      "[CV] END ......................................C=10, gamma=1; total time=   0.0s\n",
      "[CV] END ......................................C=10, gamma=1; total time=   0.0s\n",
      "[CV] END ......................................C=10, gamma=1; total time=   0.0s\n",
      "[CV] END ......................................C=10, gamma=1; total time=   0.0s\n",
      "[CV] END ....................................C=10, gamma=0.1; total time=   0.0s\n",
      "[CV] END ....................................C=10, gamma=0.1; total time=   0.0s\n",
      "[CV] END ....................................C=10, gamma=0.1; total time=   0.0s\n",
      "[CV] END ....................................C=10, gamma=0.1; total time=   0.0s\n",
      "[CV] END ....................................C=10, gamma=0.1; total time=   0.0s\n",
      "[CV] END ..................................C=10, gamma=0.001; total time=   0.0s\n",
      "[CV] END ..................................C=10, gamma=0.001; total time=   0.0s\n",
      "[CV] END ..................................C=10, gamma=0.001; total time=   0.0s\n",
      "[CV] END ..................................C=10, gamma=0.001; total time=   0.0s\n",
      "[CV] END ..................................C=10, gamma=0.001; total time=   0.0s\n",
      "[CV] END .................................C=10, gamma=0.0001; total time=   0.0s\n",
      "[CV] END .................................C=10, gamma=0.0001; total time=   0.0s\n",
      "[CV] END .................................C=10, gamma=0.0001; total time=   0.0s\n",
      "[CV] END .................................C=10, gamma=0.0001; total time=   0.0s\n",
      "[CV] END .................................C=10, gamma=0.0001; total time=   0.0s\n",
      "[CV] END .....................................C=100, gamma=1; total time=   0.0s\n",
      "[CV] END .....................................C=100, gamma=1; total time=   0.0s\n",
      "[CV] END .....................................C=100, gamma=1; total time=   0.0s\n",
      "[CV] END .....................................C=100, gamma=1; total time=   0.0s\n",
      "[CV] END .....................................C=100, gamma=1; total time=   0.0s\n",
      "[CV] END ...................................C=100, gamma=0.1; total time=   0.0s\n",
      "[CV] END ...................................C=100, gamma=0.1; total time=   0.0s\n",
      "[CV] END ...................................C=100, gamma=0.1; total time=   0.0s\n",
      "[CV] END ...................................C=100, gamma=0.1; total time=   0.0s\n",
      "[CV] END ...................................C=100, gamma=0.1; total time=   0.0s\n",
      "[CV] END .................................C=100, gamma=0.001; total time=   0.0s\n",
      "[CV] END .................................C=100, gamma=0.001; total time=   0.0s\n",
      "[CV] END .................................C=100, gamma=0.001; total time=   0.0s\n",
      "[CV] END .................................C=100, gamma=0.001; total time=   0.0s\n",
      "[CV] END .................................C=100, gamma=0.001; total time=   0.0s\n",
      "[CV] END ................................C=100, gamma=0.0001; total time=   0.0s\n",
      "[CV] END ................................C=100, gamma=0.0001; total time=   0.0s\n",
      "[CV] END ................................C=100, gamma=0.0001; total time=   0.0s\n",
      "[CV] END ................................C=100, gamma=0.0001; total time=   0.0s\n",
      "[CV] END ................................C=100, gamma=0.0001; total time=   0.0s\n",
      "[CV] END ....................................C=1000, gamma=1; total time=   0.0s\n",
      "[CV] END ....................................C=1000, gamma=1; total time=   0.0s\n",
      "[CV] END ....................................C=1000, gamma=1; total time=   0.0s\n",
      "[CV] END ....................................C=1000, gamma=1; total time=   0.0s\n",
      "[CV] END ....................................C=1000, gamma=1; total time=   0.0s\n",
      "[CV] END ..................................C=1000, gamma=0.1; total time=   0.0s\n",
      "[CV] END ..................................C=1000, gamma=0.1; total time=   0.0s\n",
      "[CV] END ..................................C=1000, gamma=0.1; total time=   0.0s\n",
      "[CV] END ..................................C=1000, gamma=0.1; total time=   0.0s\n",
      "[CV] END ..................................C=1000, gamma=0.1; total time=   0.0s\n",
      "[CV] END ................................C=1000, gamma=0.001; total time=   0.0s\n",
      "[CV] END ................................C=1000, gamma=0.001; total time=   0.0s\n",
      "[CV] END ................................C=1000, gamma=0.001; total time=   0.0s\n",
      "[CV] END ................................C=1000, gamma=0.001; total time=   0.0s\n",
      "[CV] END ................................C=1000, gamma=0.001; total time=   0.0s\n",
      "[CV] END ...............................C=1000, gamma=0.0001; total time=   0.0s\n",
      "[CV] END ...............................C=1000, gamma=0.0001; total time=   0.0s\n",
      "[CV] END ...............................C=1000, gamma=0.0001; total time=   0.0s\n",
      "[CV] END ...............................C=1000, gamma=0.0001; total time=   0.0s\n",
      "[CV] END ...............................C=1000, gamma=0.0001; total time=   0.0s\n"
     ]
    },
    {
     "data": {
      "text/plain": [
       "GridSearchCV(estimator=SVC(),\n",
       "             param_grid={'C': [0.1, 1, 10, 100, 1000],\n",
       "                         'gamma': [1, 0.1, 0.001, 0.0001]},\n",
       "             verbose=2)"
      ]
     },
     "execution_count": 66,
     "metadata": {},
     "output_type": "execute_result"
    }
   ],
   "source": [
    "grid.fit(X_train , y_train)"
   ]
  },
  {
   "cell_type": "code",
   "execution_count": 67,
   "metadata": {},
   "outputs": [
    {
     "data": {
      "text/plain": [
       "{'C': 1000, 'gamma': 1}"
      ]
     },
     "execution_count": 67,
     "metadata": {},
     "output_type": "execute_result"
    }
   ],
   "source": [
    "grid.best_params_"
   ]
  },
  {
   "cell_type": "code",
   "execution_count": 68,
   "metadata": {},
   "outputs": [
    {
     "data": {
      "text/plain": [
       "0.9457792207792208"
      ]
     },
     "execution_count": 68,
     "metadata": {},
     "output_type": "execute_result"
    }
   ],
   "source": [
    "grid.best_score_"
   ]
  },
  {
   "cell_type": "code",
   "execution_count": 69,
   "metadata": {},
   "outputs": [],
   "source": [
    "grid_pred = grid.predict(X_test)"
   ]
  },
  {
   "cell_type": "code",
   "execution_count": 70,
   "metadata": {},
   "outputs": [],
   "source": [
    "aa = pd.DataFrame(grid_pred)"
   ]
  },
  {
   "cell_type": "code",
   "execution_count": 71,
   "metadata": {},
   "outputs": [
    {
     "data": {
      "text/plain": [
       "0    87\n",
       "1    33\n",
       "dtype: int64"
      ]
     },
     "execution_count": 71,
     "metadata": {},
     "output_type": "execute_result"
    }
   ],
   "source": [
    "aa.value_counts()"
   ]
  },
  {
   "cell_type": "code",
   "execution_count": 72,
   "metadata": {},
   "outputs": [
    {
     "name": "stdout",
     "output_type": "stream",
     "text": [
      "The AUC of KNN after selection: 0.8916666666666667\n"
     ]
    }
   ],
   "source": [
    "print(\"The AUC of KNN after selection: {}\".format(grid.score(X_test, y_test)))"
   ]
  },
  {
   "cell_type": "markdown",
   "metadata": {},
   "source": [
    "# KNN "
   ]
  },
  {
   "cell_type": "code",
   "execution_count": 73,
   "metadata": {},
   "outputs": [],
   "source": [
    "knn = KNeighborsClassifier(n_neighbors=7)"
   ]
  },
  {
   "cell_type": "code",
   "execution_count": 74,
   "metadata": {},
   "outputs": [
    {
     "data": {
      "text/plain": [
       "KNeighborsClassifier(n_neighbors=7)"
      ]
     },
     "execution_count": 74,
     "metadata": {},
     "output_type": "execute_result"
    }
   ],
   "source": [
    "knn.fit(X_train , y_train)"
   ]
  },
  {
   "cell_type": "code",
   "execution_count": 75,
   "metadata": {},
   "outputs": [],
   "source": [
    "knn_pred = knn.predict(X_test)"
   ]
  },
  {
   "cell_type": "code",
   "execution_count": 76,
   "metadata": {},
   "outputs": [],
   "source": [
    "aa = pd.DataFrame(knn_pred)"
   ]
  },
  {
   "cell_type": "code",
   "execution_count": 77,
   "metadata": {},
   "outputs": [
    {
     "data": {
      "text/plain": [
       "0    82\n",
       "1    38\n",
       "dtype: int64"
      ]
     },
     "execution_count": 77,
     "metadata": {},
     "output_type": "execute_result"
    }
   ],
   "source": [
    "aa.value_counts()"
   ]
  },
  {
   "cell_type": "code",
   "execution_count": 78,
   "metadata": {},
   "outputs": [],
   "source": [
    "#knn_pred.reshape(116 , 1)"
   ]
  },
  {
   "cell_type": "code",
   "execution_count": 79,
   "metadata": {},
   "outputs": [
    {
     "data": {
      "text/plain": [
       "(120, 1)"
      ]
     },
     "execution_count": 79,
     "metadata": {},
     "output_type": "execute_result"
    }
   ],
   "source": [
    "y_test.shape"
   ]
  },
  {
   "cell_type": "code",
   "execution_count": 80,
   "metadata": {},
   "outputs": [
    {
     "name": "stdout",
     "output_type": "stream",
     "text": [
      "Accuracy= 0.95\n"
     ]
    }
   ],
   "source": [
    "acc = accuracy_score(y_test , knn_pred)\n",
    "print('Accuracy=' , acc)"
   ]
  },
  {
   "cell_type": "code",
   "execution_count": 81,
   "metadata": {},
   "outputs": [
    {
     "data": {
      "text/plain": [
       "0    82\n",
       "1    38\n",
       "dtype: int64"
      ]
     },
     "execution_count": 81,
     "metadata": {},
     "output_type": "execute_result"
    }
   ],
   "source": [
    "aa.value_counts()"
   ]
  },
  {
   "cell_type": "markdown",
   "metadata": {},
   "source": [
    "# RESULTS"
   ]
  },
  {
   "cell_type": "markdown",
   "metadata": {},
   "source": [
    "# KNN scores"
   ]
  },
  {
   "cell_type": "code",
   "execution_count": 82,
   "metadata": {},
   "outputs": [
    {
     "name": "stdout",
     "output_type": "stream",
     "text": [
      "Accuracy= 0.95\n",
      "f1_score =  0.9166666666666667\n",
      "precision = 0.868421052631579\n",
      "roc_auc score= 0.9562243502051984\n",
      "Confusion Matrix:\n",
      " [[81  5]\n",
      " [ 1 33]] \n",
      "\n",
      "Sensitivity= 0.9705882352941176 \n",
      "\n",
      "Specificity= 0.9418604651162791 \n",
      "\n",
      "MCC = 0.8838903991485463\n"
     ]
    }
   ],
   "source": [
    "\n",
    "\n",
    "acc = accuracy_score(y_test , knn_pred)\n",
    "print('Accuracy=' , acc)\n",
    "\n",
    "f1 = f1_score(y_test , knn_pred)\n",
    "print('f1_score = ' , f1)\n",
    "\n",
    "\n",
    "precision = precision_score(y_test , knn_pred)\n",
    "print('precision =' ,  precision)\n",
    "\n",
    "roc = roc_auc_score( y_test , knn_pred)\n",
    "print('roc_auc score=', roc)\n",
    "\n",
    "\n",
    "\n",
    "\n",
    "cm=confusion_matrix(y_test,knn_pred)\n",
    "print(\"Confusion Matrix:\\n\",cm,\"\\n\")\n",
    "\n",
    "\n",
    "TN=cm[0,0]\n",
    "FP=cm[0,1]\n",
    "FN=cm[1,0]\n",
    "TP=cm[1,1]\n",
    "\n",
    "#Sensitivity\n",
    "\n",
    "sen=TP/float(TP+FN)\n",
    "print(\"Sensitivity=\",sen,\"\\n\")\n",
    "\n",
    "#Specificity\n",
    "\n",
    "spe=TN/float(TN+FP)\n",
    "print(\"Specificity=\",spe,\"\\n\")\n",
    "import math\n",
    "#MCC\n",
    "mcc= float((TP*TN)-(FP*FN))/float(math.sqrt((TP+FP)*(TP+FN)*(TN+FP)*(TN+FN)))\n",
    "print(\"MCC =\",mcc)"
   ]
  },
  {
   "cell_type": "markdown",
   "metadata": {},
   "source": [
    "# SVM SCORES"
   ]
  },
  {
   "cell_type": "code",
   "execution_count": 83,
   "metadata": {},
   "outputs": [
    {
     "name": "stdout",
     "output_type": "stream",
     "text": [
      "Accuracy= 0.8916666666666667\n",
      "f1_score =  0.8059701492537314\n",
      "precision = 0.8181818181818182\n",
      "roc_auc score= 0.8621751025991792\n",
      "classification report \n",
      "               precision    recall  f1-score   support\n",
      "\n",
      "           0       0.92      0.93      0.92        86\n",
      "           1       0.82      0.79      0.81        34\n",
      "\n",
      "    accuracy                           0.89       120\n",
      "   macro avg       0.87      0.86      0.87       120\n",
      "weighted avg       0.89      0.89      0.89       120\n",
      "\n",
      "Confusion Matrix:\n",
      " [[80  6]\n",
      " [ 7 27]] \n",
      "\n",
      "Sensitivity= 0.7941176470588235 \n",
      "\n",
      "Specificity= 0.9302325581395349 \n",
      "\n",
      "MCC = 0.7310055518917723\n"
     ]
    }
   ],
   "source": [
    "acc = accuracy_score(y_test , grid_pred)\n",
    "print('Accuracy=' , acc)\n",
    "\n",
    "f1 = f1_score(y_test , grid_pred)\n",
    "print('f1_score = ' , f1)\n",
    "\n",
    "\n",
    "precision = precision_score(y_test , grid_pred)\n",
    "print('precision =' ,  precision)\n",
    "\n",
    "roc = roc_auc_score( y_test , grid_pred)\n",
    "print('roc_auc score=', roc)\n",
    "\n",
    "print('classification report \\n',classification_report(y_test , grid_pred))\n",
    "\n",
    "\n",
    "cm=confusion_matrix(y_test,grid_pred)\n",
    "print(\"Confusion Matrix:\\n\",cm,\"\\n\")\n",
    "\n",
    "cm\n",
    "\n",
    "\n",
    "TN=cm[0,0]\n",
    "FP=cm[0,1]\n",
    "FN=cm[1,0]\n",
    "TP=cm[1,1]\n",
    "\n",
    "#Sensitivity\n",
    "\n",
    "sen=TP/float(TP+FN)\n",
    "print(\"Sensitivity=\",sen,\"\\n\")\n",
    "\n",
    "#Specificity\n",
    "\n",
    "spe=TN/float(TN+FP)\n",
    "print(\"Specificity=\",spe,\"\\n\")\n",
    "import math\n",
    "#MCC\n",
    "mcc= float((TP*TN)-(FP*FN))/float(math.sqrt((TP+FP)*(TP+FN)*(TN+FP)*(TN+FN)))\n",
    "print(\"MCC =\",mcc)"
   ]
  },
  {
   "cell_type": "markdown",
   "metadata": {},
   "source": [
    "# Random Forest"
   ]
  },
  {
   "cell_type": "code",
   "execution_count": 84,
   "metadata": {},
   "outputs": [
    {
     "name": "stdout",
     "output_type": "stream",
     "text": [
      "The AUC of RF after selection: 0.9796511627906976\n"
     ]
    }
   ],
   "source": [
    "param_grid = {'n_estimators': [5, 10, 15, 20, 25,30]}\n",
    "gr_raw_RF = GridSearchCV(RandomForestClassifier(random_state=1994), param_grid, cv=5, scoring='roc_auc')\n",
    "gr_raw_RF.fit(X_train , y_train)\n",
    "print(\"The AUC of RF after selection: {}\".format(gr_raw_RF.score(X_test, y_test)))"
   ]
  },
  {
   "cell_type": "code",
   "execution_count": 85,
   "metadata": {},
   "outputs": [
    {
     "name": "stdout",
     "output_type": "stream",
     "text": [
      "Accuracy = 0.985 \n",
      "\n",
      "F1 Score= 0.9401321337490405 \n",
      "\n",
      "Precision= 0.9387820512820513 \n",
      "\n",
      "Recall = 0.9530701754385966 \n",
      "\n",
      "Auc = 0.9982811290428263 \n",
      "\n",
      "Confusion Matrix:\n",
      " [[294   4]\n",
      " [  5  94]] \n",
      "\n",
      "Sensitivity= 0.9494949494949495 \n",
      "\n",
      "Specificity= 0.9865771812080537 \n",
      "\n",
      "MCC = 0.9392612654889656\n"
     ]
    }
   ],
   "source": [
    "from sklearn.ensemble import RandomForestClassifier\n",
    "\n",
    "rf=RandomForestClassifier(n_estimators=11)\n",
    "kf=KFold(n_splits=10,shuffle=True,random_state=5)\n",
    "\n",
    "#Accuracy\n",
    "acc =cross_val_score(rf,X, y,cv=kf,scoring=\"accuracy\")\n",
    "print(\"Accuracy =\",acc.mean(),\"\\n\")\n",
    "\n",
    "#F1-Score\n",
    "f1 =cross_val_score(rf,X, y,cv=kf,scoring=\"f1\")\n",
    "print(\"F1 Score=\",f1.mean(),\"\\n\")\n",
    "\n",
    "#precision\n",
    "precision =cross_val_score(rf,X, y,cv=kf,scoring=\"precision\")\n",
    "print(\"Precision=\",precision.mean(),\"\\n\")\n",
    "\n",
    "#Recall\n",
    "recall =cross_val_score(rf,X, y,cv=kf,scoring=\"recall\")\n",
    "print(\"Recall =\",recall.mean(),\"\\n\")\n",
    "\n",
    "#auc\n",
    "auc =cross_val_score(rf,X, y,cv=kf,scoring=\"roc_auc\")\n",
    "print(\"Auc =\",auc.mean(),\"\\n\")\n",
    "\n",
    "y_pred=cross_val_predict(rf,X,y,cv=kf)\n",
    "\n",
    "#Confusion Matrix\n",
    "cm=confusion_matrix(y,y_pred)\n",
    "print(\"Confusion Matrix:\\n\",cm,\"\\n\")\n",
    "\n",
    "#confusion metrics measures\n",
    "TN=cm[0,0]\n",
    "FP=cm[0,1]\n",
    "FN=cm[1,0]\n",
    "TP=cm[1,1]\n",
    "\n",
    "#Sensitivity\n",
    "sen=TP/float(TP+FN)\n",
    "print(\"Sensitivity=\",sen,\"\\n\")\n",
    "\n",
    "#Specificity\n",
    "spe=TN/float(TN+FP)\n",
    "print(\"Specificity=\",spe,\"\\n\")\n",
    "import math\n",
    "#MCC\n",
    "mcc= float((TP*TN)-(FP*FN))/float(math.sqrt((TP+FP)*(TP+FN)*(TN+FP)*(TN+FN)))\n",
    "print(\"MCC =\",mcc)"
   ]
  },
  {
   "cell_type": "code",
   "execution_count": 86,
   "metadata": {},
   "outputs": [],
   "source": [
    "Rf_pred = gr_raw_RF.predict(X_test)"
   ]
  },
  {
   "cell_type": "code",
   "execution_count": 87,
   "metadata": {},
   "outputs": [],
   "source": [
    "from sklearn.naive_bayes import GaussianNB"
   ]
  },
  {
   "cell_type": "code",
   "execution_count": 88,
   "metadata": {},
   "outputs": [],
   "source": [
    "GNB =  GaussianNB()"
   ]
  },
  {
   "cell_type": "code",
   "execution_count": 89,
   "metadata": {},
   "outputs": [
    {
     "data": {
      "text/plain": [
       "GaussianNB()"
      ]
     },
     "execution_count": 89,
     "metadata": {},
     "output_type": "execute_result"
    }
   ],
   "source": [
    "GNB.fit(X=X_train, y=y_train)"
   ]
  },
  {
   "cell_type": "code",
   "execution_count": 90,
   "metadata": {},
   "outputs": [],
   "source": [
    "predicted = GNB.predict(X=X_test)"
   ]
  },
  {
   "cell_type": "code",
   "execution_count": 91,
   "metadata": {},
   "outputs": [],
   "source": [
    "expected = y_test"
   ]
  },
  {
   "cell_type": "code",
   "execution_count": 92,
   "metadata": {},
   "outputs": [
    {
     "data": {
      "text/plain": [
       "array([1, 1, 1, 0, 0, 0, 1, 0, 1, 0, 1, 0, 0, 1, 0, 0, 0, 0, 0, 1],\n",
       "      dtype=int64)"
      ]
     },
     "execution_count": 92,
     "metadata": {},
     "output_type": "execute_result"
    }
   ],
   "source": [
    "predicted[:20]"
   ]
  },
  {
   "cell_type": "code",
   "execution_count": 93,
   "metadata": {},
   "outputs": [
    {
     "data": {
      "text/html": [
       "<div>\n",
       "<style scoped>\n",
       "    .dataframe tbody tr th:only-of-type {\n",
       "        vertical-align: middle;\n",
       "    }\n",
       "\n",
       "    .dataframe tbody tr th {\n",
       "        vertical-align: top;\n",
       "    }\n",
       "\n",
       "    .dataframe thead th {\n",
       "        text-align: right;\n",
       "    }\n",
       "</style>\n",
       "<table border=\"1\" class=\"dataframe\">\n",
       "  <thead>\n",
       "    <tr style=\"text-align: right;\">\n",
       "      <th></th>\n",
       "      <th>Label</th>\n",
       "    </tr>\n",
       "  </thead>\n",
       "  <tbody>\n",
       "    <tr>\n",
       "      <th>125</th>\n",
       "      <td>0</td>\n",
       "    </tr>\n",
       "    <tr>\n",
       "      <th>114</th>\n",
       "      <td>0</td>\n",
       "    </tr>\n",
       "    <tr>\n",
       "      <th>172</th>\n",
       "      <td>0</td>\n",
       "    </tr>\n",
       "    <tr>\n",
       "      <th>106</th>\n",
       "      <td>0</td>\n",
       "    </tr>\n",
       "    <tr>\n",
       "      <th>193</th>\n",
       "      <td>0</td>\n",
       "    </tr>\n",
       "    <tr>\n",
       "      <th>340</th>\n",
       "      <td>0</td>\n",
       "    </tr>\n",
       "    <tr>\n",
       "      <th>82</th>\n",
       "      <td>1</td>\n",
       "    </tr>\n",
       "    <tr>\n",
       "      <th>378</th>\n",
       "      <td>0</td>\n",
       "    </tr>\n",
       "    <tr>\n",
       "      <th>92</th>\n",
       "      <td>1</td>\n",
       "    </tr>\n",
       "    <tr>\n",
       "      <th>192</th>\n",
       "      <td>0</td>\n",
       "    </tr>\n",
       "    <tr>\n",
       "      <th>2</th>\n",
       "      <td>1</td>\n",
       "    </tr>\n",
       "    <tr>\n",
       "      <th>87</th>\n",
       "      <td>1</td>\n",
       "    </tr>\n",
       "    <tr>\n",
       "      <th>119</th>\n",
       "      <td>0</td>\n",
       "    </tr>\n",
       "    <tr>\n",
       "      <th>18</th>\n",
       "      <td>1</td>\n",
       "    </tr>\n",
       "    <tr>\n",
       "      <th>385</th>\n",
       "      <td>0</td>\n",
       "    </tr>\n",
       "    <tr>\n",
       "      <th>113</th>\n",
       "      <td>0</td>\n",
       "    </tr>\n",
       "    <tr>\n",
       "      <th>112</th>\n",
       "      <td>0</td>\n",
       "    </tr>\n",
       "    <tr>\n",
       "      <th>143</th>\n",
       "      <td>0</td>\n",
       "    </tr>\n",
       "    <tr>\n",
       "      <th>343</th>\n",
       "      <td>0</td>\n",
       "    </tr>\n",
       "    <tr>\n",
       "      <th>140</th>\n",
       "      <td>0</td>\n",
       "    </tr>\n",
       "  </tbody>\n",
       "</table>\n",
       "</div>"
      ],
      "text/plain": [
       "     Label\n",
       "125      0\n",
       "114      0\n",
       "172      0\n",
       "106      0\n",
       "193      0\n",
       "340      0\n",
       "82       1\n",
       "378      0\n",
       "92       1\n",
       "192      0\n",
       "2        1\n",
       "87       1\n",
       "119      0\n",
       "18       1\n",
       "385      0\n",
       "113      0\n",
       "112      0\n",
       "143      0\n",
       "343      0\n",
       "140      0"
      ]
     },
     "execution_count": 93,
     "metadata": {},
     "output_type": "execute_result"
    }
   ],
   "source": [
    "expected[:20]"
   ]
  },
  {
   "cell_type": "code",
   "execution_count": 94,
   "metadata": {},
   "outputs": [],
   "source": [
    "wrong = [(p, e) for (p, e) in zip(predicted, expected) if p != e]"
   ]
  },
  {
   "cell_type": "code",
   "execution_count": 95,
   "metadata": {},
   "outputs": [
    {
     "data": {
      "text/plain": [
       "[(1, 'Label')]"
      ]
     },
     "execution_count": 95,
     "metadata": {},
     "output_type": "execute_result"
    }
   ],
   "source": [
    "wrong"
   ]
  },
  {
   "cell_type": "code",
   "execution_count": 96,
   "metadata": {},
   "outputs": [
    {
     "name": "stdout",
     "output_type": "stream",
     "text": [
      "92.50%\n"
     ]
    }
   ],
   "source": [
    "print(f'{GNB.score(X_test, y_test):.2%}')"
   ]
  },
  {
   "cell_type": "markdown",
   "metadata": {},
   "source": [
    "# GaussianNB"
   ]
  },
  {
   "cell_type": "code",
   "execution_count": 97,
   "metadata": {},
   "outputs": [],
   "source": [
    "from sklearn.model_selection import cross_val_score,KFold,cross_val_predict\n",
    "from sklearn.metrics import confusion_matrix,classification_report,accuracy_score\n",
    "import sklearn"
   ]
  },
  {
   "cell_type": "code",
   "execution_count": 98,
   "metadata": {},
   "outputs": [
    {
     "name": "stdout",
     "output_type": "stream",
     "text": [
      "Accuracy = 0.9446794871794871 \n",
      "\n",
      "F1 Score= 0.8921449462728235 \n",
      "\n",
      "Precision= 0.8162087912087912 \n",
      "\n",
      "Recall = 1.0 \n",
      "\n",
      "Auc = 0.9945762814738147 \n",
      "\n",
      "Confusion Matrix:\n",
      " [[276  22]\n",
      " [  0  99]] \n",
      "\n",
      "Sensitivity= 1.0 \n",
      "\n",
      "Specificity= 0.9261744966442953 \n",
      "\n",
      "MCC = 0.8705051025801399\n"
     ]
    }
   ],
   "source": [
    "from sklearn.naive_bayes import GaussianNB\n",
    "nb=GaussianNB()\n",
    "\n",
    "kf=KFold(n_splits=10,shuffle=True,random_state=5)\n",
    "\n",
    "#Accuracy\n",
    "acc =cross_val_score(nb,X, y,cv=kf,scoring=\"accuracy\")\n",
    "print(\"Accuracy =\",acc.mean(),\"\\n\")\n",
    "\n",
    "#F1-Score\n",
    "f1 =cross_val_score(nb,X, y,cv=kf,scoring=\"f1\")\n",
    "print(\"F1 Score=\",f1.mean(),\"\\n\")\n",
    "\n",
    "#precision\n",
    "precision =cross_val_score(nb,X, y,cv=kf,scoring=\"precision\")\n",
    "print(\"Precision=\",precision.mean(),\"\\n\")\n",
    "\n",
    "#Recall\n",
    "recall =cross_val_score(nb,X, y,cv=kf,scoring=\"recall\")\n",
    "print(\"Recall =\",recall.mean(),\"\\n\")\n",
    "\n",
    "#auc\n",
    "auc =cross_val_score(nb,X, y,cv=kf,scoring=\"roc_auc\")\n",
    "print(\"Auc =\",auc.mean(),\"\\n\")\n",
    "\n",
    "y_pred=cross_val_predict(nb,X,y,cv=kf)\n",
    "\n",
    "#Confusion Matrix\n",
    "cm=confusion_matrix(y,y_pred)\n",
    "print(\"Confusion Matrix:\\n\",cm,\"\\n\")\n",
    "\n",
    "#confusion metrics measures\n",
    "TN=cm[0,0]\n",
    "FP=cm[0,1]\n",
    "FN=cm[1,0]\n",
    "TP=cm[1,1]\n",
    "\n",
    "#Sensitivity\n",
    "sen=TP/float(TP+FN)\n",
    "print(\"Sensitivity=\",sen,\"\\n\")\n",
    "\n",
    "#Specificity\n",
    "spe=TN/float(TN+FP)\n",
    "print(\"Specificity=\",spe,\"\\n\")\n",
    "\n",
    "#MCC\n",
    "mcc= float((TP*TN)-(FP*FN))/float(math.sqrt((TP+FP)*(TP+FN)*(TN+FP)*(TN+FN)))\n",
    "print(\"MCC =\",mcc)"
   ]
  },
  {
   "cell_type": "code",
   "execution_count": 99,
   "metadata": {},
   "outputs": [],
   "source": [
    "GNB =  GaussianNB()"
   ]
  },
  {
   "cell_type": "code",
   "execution_count": 100,
   "metadata": {},
   "outputs": [
    {
     "name": "stdout",
     "output_type": "stream",
     "text": [
      "The AUC of GNB after selection: 0.925\n"
     ]
    }
   ],
   "source": [
    "GNB.fit(X_train,y_train)\n",
    "print(\"The AUC of GNB after selection: {}\".format(GNB.score(X_test, y_test)))"
   ]
  },
  {
   "cell_type": "code",
   "execution_count": 101,
   "metadata": {},
   "outputs": [],
   "source": [
    "GNB_pred = GNB.predict(X_test)"
   ]
  },
  {
   "cell_type": "code",
   "execution_count": 102,
   "metadata": {},
   "outputs": [
    {
     "name": "stdout",
     "output_type": "stream",
     "text": [
      "Accuracy= 0.925\n",
      "f1_score =  0.8800000000000001\n",
      "precision = 0.8048780487804879\n",
      "roc_auc score= 0.9387824897400823\n",
      "classification report \n",
      "               precision    recall  f1-score   support\n",
      "\n",
      "           0       0.99      0.91      0.95        86\n",
      "           1       0.80      0.97      0.88        34\n",
      "\n",
      "    accuracy                           0.93       120\n",
      "   macro avg       0.90      0.94      0.91       120\n",
      "weighted avg       0.94      0.93      0.93       120\n",
      "\n",
      "Confusion Matrix:\n",
      " [[78  8]\n",
      " [ 1 33]] \n",
      "\n",
      "Sensitivity= 0.9705882352941176 \n",
      "\n",
      "Specificity= 0.9069767441860465 \n",
      "\n"
     ]
    }
   ],
   "source": [
    "acc = accuracy_score(y_test , GNB_pred)\n",
    "print('Accuracy=' , acc)\n",
    "\n",
    "f1 = f1_score(y_test , GNB_pred)\n",
    "print('f1_score = ' , f1)\n",
    "\n",
    "\n",
    "precision = precision_score(y_test , GNB_pred)\n",
    "print('precision =' ,  precision)\n",
    "\n",
    "roc = roc_auc_score( y_test , GNB_pred)\n",
    "print('roc_auc score=', roc)\n",
    "\n",
    "print('classification report \\n',classification_report(y_test , GNB_pred))\n",
    "\n",
    "\n",
    "cm=confusion_matrix(y_test,GNB_pred)\n",
    "print(\"Confusion Matrix:\\n\",cm,\"\\n\")\n",
    "\n",
    "cm\n",
    "\n",
    "\n",
    "TN=cm[0,0]\n",
    "FP=cm[0,1]\n",
    "FN=cm[1,0]\n",
    "TP=cm[1,1]\n",
    "\n",
    "#Sensitivity\n",
    "\n",
    "sen=TP/float(TP+FN)\n",
    "print(\"Sensitivity=\",sen,\"\\n\")\n",
    "\n",
    "#Specificity\n",
    "\n",
    "spe=TN/float(TN+FP)\n",
    "print(\"Specificity=\",spe,\"\\n\")"
   ]
  },
  {
   "cell_type": "code",
   "execution_count": 103,
   "metadata": {},
   "outputs": [],
   "source": [
    "false_positive_rate1, true_positive_rate1, threshold1 = roc_curve(y_test, knn_pred)\n",
    "false_positive_rate2, true_positive_rate2, threshold2 = roc_curve(y_test, grid_pred)\n",
    "false_positive_rate3, true_positive_rate3, threshold3 = roc_curve(y_test, Rf_pred)\n",
    "false_positive_rate4, true_positive_rate4, threshold = roc_curve(y_test, GNB_pred)"
   ]
  },
  {
   "cell_type": "code",
   "execution_count": 104,
   "metadata": {},
   "outputs": [
    {
     "data": {
      "image/png": "[encoded data removed]",
      "text/plain": [
       "<Figure size 720x576 with 1 Axes>"
      ]
     },
     "metadata": {
      "needs_background": "light"
     },
     "output_type": "display_data"
    }
   ],
   "source": [
    "plt.figure(figsize=(10,8))\n",
    "plt.plot([0,1],[0,1], 'k--')\n",
    "plt.plot(false_positive_rate1, true_positive_rate1, label= \"K Nearest Neighbor =0.95\" , color = 'red' , linewidth = 1.5 )\n",
    "plt.plot(false_positive_rate2, true_positive_rate2, label= \"Support Vector Machine=0.86\", color = 'green', linewidth = 1.5 ) \n",
    "plt.plot(false_positive_rate3, true_positive_rate3, label= \"Random Forest= 0.99\", color = 'purple', linewidth =  1.5 ) \n",
    "plt.plot(false_positive_rate4, true_positive_rate4, label= \"Gaussian Naive Bayes=0.93\", color = 'blue', linewidth =   1.5 ) \n",
    "\n",
    "plt.legend()\n",
    "plt.xlabel(\"False Positive Rate\")\n",
    "plt.ylabel(\"True Positive Rate\")\n",
    "plt.savefig('ROC.jpg',dpi=600)\n",
    "plt.show()\n"
   ]
  },
  {
   "cell_type": "code",
   "execution_count": 57,
   "metadata": {},
   "outputs": [
    {
     "data": {
      "image/png": "[encoded data removed]",
      "text/plain": [
       "<Figure size 720x576 with 1 Axes>"
      ]
     },
     "metadata": {
      "needs_background": "light"
     },
     "output_type": "display_data"
    }
   ],
   "source": [
    "df['Data sets'] = 'test set (N = 120)'\n",
    "df.loc[y_train.index, 'Data sets'] = 'training set (N = 277)'\n",
    "plt.figure(figsize=(10,8))\n",
    "sns.scatterplot(df.Weight, df.h_logP, hue=df['Data sets']  ,s = 60,  linewidth = 0.65  , edgecolor = 'black' )\n",
    "plt.savefig('figure 1A.jpg',dpi=1200)"
   ]
  },
  {
   "cell_type": "code",
   "execution_count": null,
   "metadata": {},
   "outputs": [],
   "source": []
  }
 ],
 "metadata": {
  "kernelspec": {
   "display_name": "Python 3 (ipykernel)",
   "language": "python",
   "name": "python3"
  },
  "language_info": {
   "codemirror_mode": {
    "name": "ipython",
    "version": 3
   },
   "file_extension": ".py",
   "mimetype": "text/x-python",
   "name": "python",
   "nbconvert_exporter": "python",
   "pygments_lexer": "ipython3",
   "version": "3.11.5"
  }
 },
 "nbformat": 4,
 "nbformat_minor": 4
}
